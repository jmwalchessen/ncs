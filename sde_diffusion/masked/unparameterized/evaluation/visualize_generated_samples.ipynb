{
 "cells": [
  {
   "cell_type": "code",
   "execution_count": 1,
   "metadata": {},
   "outputs": [],
   "source": [
    "import numpy as np\n",
    "import torch as th\n",
    "import matplotlib.pyplot as plt\n",
    "import os\n",
    "import sys\n",
    "from append_directories import *\n",
    "\n",
    "home_folder = append_directory(2)\n",
    "sys.path.append(home_folder)\n",
    "from models import ncsnpp\n",
    "from sde_lib import *\n",
    "from configs.vp import ncsnpp_config\n",
    "twisted_diffusion_folder = append_directory(5)\n",
    "sys.path.append((twisted_diffusion_folder + \"/twisted_diffusion/image_exp\"))\n",
    "from image_diffusion import my_smc_diffusion\n",
    "from image_diffusion import my_feynman_kac_image_ddpm"
   ]
  },
  {
   "cell_type": "code",
   "execution_count": 2,
   "metadata": {},
   "outputs": [
    {
     "name": "stderr",
     "output_type": "stream",
     "text": [
      "/home/julia/Dropbox/diffusion/twisted_diffusion/sde_diffusion/masked/unparameterized/models/ncsnpp.py:49: UserWarning: To copy construct from a tensor, it is recommended to use sourceTensor.clone().detach() or sourceTensor.clone().detach().requires_grad_(True), rather than torch.tensor(sourceTensor).\n",
      "  self.register_buffer('sigmas', torch.tensor(get_sigmas(config)))\n"
     ]
    },
    {
     "data": {
      "text/plain": [
       "NCSNpp(\n",
       "  (act): SiLU()\n",
       "  (all_modules): ModuleList(\n",
       "    (0): Linear(in_features=128, out_features=512, bias=True)\n",
       "    (1): Linear(in_features=512, out_features=512, bias=True)\n",
       "    (2): Conv2d(1, 128, kernel_size=(3, 3), stride=(1, 1), padding=(1, 1))\n",
       "    (3-6): 4 x ResnetBlockBigGANpp(\n",
       "      (GroupNorm_0): GroupNorm(32, 128, eps=1e-06, affine=True)\n",
       "      (Conv_0): Conv2d(128, 128, kernel_size=(3, 3), stride=(1, 1), padding=(1, 1))\n",
       "      (Dense_0): Linear(in_features=512, out_features=128, bias=True)\n",
       "      (GroupNorm_1): GroupNorm(32, 128, eps=1e-06, affine=True)\n",
       "      (Dropout_0): Dropout(p=0.1, inplace=False)\n",
       "      (Conv_1): Conv2d(128, 128, kernel_size=(3, 3), stride=(1, 1), padding=(1, 1))\n",
       "      (act): SiLU()\n",
       "    )\n",
       "    (7): ResnetBlockBigGANpp(\n",
       "      (GroupNorm_0): GroupNorm(32, 128, eps=1e-06, affine=True)\n",
       "      (Conv_0): Conv2d(128, 128, kernel_size=(3, 3), stride=(1, 1), padding=(1, 1))\n",
       "      (Dense_0): Linear(in_features=512, out_features=128, bias=True)\n",
       "      (GroupNorm_1): GroupNorm(32, 128, eps=1e-06, affine=True)\n",
       "      (Dropout_0): Dropout(p=0.1, inplace=False)\n",
       "      (Conv_1): Conv2d(128, 128, kernel_size=(3, 3), stride=(1, 1), padding=(1, 1))\n",
       "      (Conv_2): Conv2d(128, 128, kernel_size=(1, 1), stride=(1, 1))\n",
       "      (act): SiLU()\n",
       "    )\n",
       "    (8): Downsample(\n",
       "      (Conv2d_0): Conv2d()\n",
       "    )\n",
       "    (9): ResnetBlockBigGANpp(\n",
       "      (GroupNorm_0): GroupNorm(32, 128, eps=1e-06, affine=True)\n",
       "      (Conv_0): Conv2d(128, 256, kernel_size=(3, 3), stride=(1, 1), padding=(1, 1))\n",
       "      (Dense_0): Linear(in_features=512, out_features=256, bias=True)\n",
       "      (GroupNorm_1): GroupNorm(32, 256, eps=1e-06, affine=True)\n",
       "      (Dropout_0): Dropout(p=0.1, inplace=False)\n",
       "      (Conv_1): Conv2d(256, 256, kernel_size=(3, 3), stride=(1, 1), padding=(1, 1))\n",
       "      (Conv_2): Conv2d(128, 256, kernel_size=(1, 1), stride=(1, 1))\n",
       "      (act): SiLU()\n",
       "    )\n",
       "    (10): AttnBlockpp(\n",
       "      (GroupNorm_0): GroupNorm(32, 256, eps=1e-06, affine=True)\n",
       "      (NIN_0): NIN()\n",
       "      (NIN_1): NIN()\n",
       "      (NIN_2): NIN()\n",
       "      (NIN_3): NIN()\n",
       "    )\n",
       "    (11): ResnetBlockBigGANpp(\n",
       "      (GroupNorm_0): GroupNorm(32, 256, eps=1e-06, affine=True)\n",
       "      (Conv_0): Conv2d(256, 256, kernel_size=(3, 3), stride=(1, 1), padding=(1, 1))\n",
       "      (Dense_0): Linear(in_features=512, out_features=256, bias=True)\n",
       "      (GroupNorm_1): GroupNorm(32, 256, eps=1e-06, affine=True)\n",
       "      (Dropout_0): Dropout(p=0.1, inplace=False)\n",
       "      (Conv_1): Conv2d(256, 256, kernel_size=(3, 3), stride=(1, 1), padding=(1, 1))\n",
       "      (act): SiLU()\n",
       "    )\n",
       "    (12): AttnBlockpp(\n",
       "      (GroupNorm_0): GroupNorm(32, 256, eps=1e-06, affine=True)\n",
       "      (NIN_0): NIN()\n",
       "      (NIN_1): NIN()\n",
       "      (NIN_2): NIN()\n",
       "      (NIN_3): NIN()\n",
       "    )\n",
       "    (13): ResnetBlockBigGANpp(\n",
       "      (GroupNorm_0): GroupNorm(32, 256, eps=1e-06, affine=True)\n",
       "      (Conv_0): Conv2d(256, 256, kernel_size=(3, 3), stride=(1, 1), padding=(1, 1))\n",
       "      (Dense_0): Linear(in_features=512, out_features=256, bias=True)\n",
       "      (GroupNorm_1): GroupNorm(32, 256, eps=1e-06, affine=True)\n",
       "      (Dropout_0): Dropout(p=0.1, inplace=False)\n",
       "      (Conv_1): Conv2d(256, 256, kernel_size=(3, 3), stride=(1, 1), padding=(1, 1))\n",
       "      (act): SiLU()\n",
       "    )\n",
       "    (14): AttnBlockpp(\n",
       "      (GroupNorm_0): GroupNorm(32, 256, eps=1e-06, affine=True)\n",
       "      (NIN_0): NIN()\n",
       "      (NIN_1): NIN()\n",
       "      (NIN_2): NIN()\n",
       "      (NIN_3): NIN()\n",
       "    )\n",
       "    (15): ResnetBlockBigGANpp(\n",
       "      (GroupNorm_0): GroupNorm(32, 256, eps=1e-06, affine=True)\n",
       "      (Conv_0): Conv2d(256, 256, kernel_size=(3, 3), stride=(1, 1), padding=(1, 1))\n",
       "      (Dense_0): Linear(in_features=512, out_features=256, bias=True)\n",
       "      (GroupNorm_1): GroupNorm(32, 256, eps=1e-06, affine=True)\n",
       "      (Dropout_0): Dropout(p=0.1, inplace=False)\n",
       "      (Conv_1): Conv2d(256, 256, kernel_size=(3, 3), stride=(1, 1), padding=(1, 1))\n",
       "      (act): SiLU()\n",
       "    )\n",
       "    (16): AttnBlockpp(\n",
       "      (GroupNorm_0): GroupNorm(32, 256, eps=1e-06, affine=True)\n",
       "      (NIN_0): NIN()\n",
       "      (NIN_1): NIN()\n",
       "      (NIN_2): NIN()\n",
       "      (NIN_3): NIN()\n",
       "    )\n",
       "    (17): ResnetBlockBigGANpp(\n",
       "      (GroupNorm_0): GroupNorm(32, 256, eps=1e-06, affine=True)\n",
       "      (Conv_0): Conv2d(256, 256, kernel_size=(3, 3), stride=(1, 1), padding=(1, 1))\n",
       "      (Dense_0): Linear(in_features=512, out_features=256, bias=True)\n",
       "      (GroupNorm_1): GroupNorm(32, 256, eps=1e-06, affine=True)\n",
       "      (Dropout_0): Dropout(p=0.1, inplace=False)\n",
       "      (Conv_1): Conv2d(256, 256, kernel_size=(3, 3), stride=(1, 1), padding=(1, 1))\n",
       "      (Conv_2): Conv2d(256, 256, kernel_size=(1, 1), stride=(1, 1))\n",
       "      (act): SiLU()\n",
       "    )\n",
       "    (18): Downsample(\n",
       "      (Conv2d_0): Conv2d()\n",
       "    )\n",
       "    (19-22): 4 x ResnetBlockBigGANpp(\n",
       "      (GroupNorm_0): GroupNorm(32, 256, eps=1e-06, affine=True)\n",
       "      (Conv_0): Conv2d(256, 256, kernel_size=(3, 3), stride=(1, 1), padding=(1, 1))\n",
       "      (Dense_0): Linear(in_features=512, out_features=256, bias=True)\n",
       "      (GroupNorm_1): GroupNorm(32, 256, eps=1e-06, affine=True)\n",
       "      (Dropout_0): Dropout(p=0.1, inplace=False)\n",
       "      (Conv_1): Conv2d(256, 256, kernel_size=(3, 3), stride=(1, 1), padding=(1, 1))\n",
       "      (act): SiLU()\n",
       "    )\n",
       "    (23): ResnetBlockBigGANpp(\n",
       "      (GroupNorm_0): GroupNorm(32, 256, eps=1e-06, affine=True)\n",
       "      (Conv_0): Conv2d(256, 256, kernel_size=(3, 3), stride=(1, 1), padding=(1, 1))\n",
       "      (Dense_0): Linear(in_features=512, out_features=256, bias=True)\n",
       "      (GroupNorm_1): GroupNorm(32, 256, eps=1e-06, affine=True)\n",
       "      (Dropout_0): Dropout(p=0.1, inplace=False)\n",
       "      (Conv_1): Conv2d(256, 256, kernel_size=(3, 3), stride=(1, 1), padding=(1, 1))\n",
       "      (Conv_2): Conv2d(256, 256, kernel_size=(1, 1), stride=(1, 1))\n",
       "      (act): SiLU()\n",
       "    )\n",
       "    (24): Downsample(\n",
       "      (Conv2d_0): Conv2d()\n",
       "    )\n",
       "    (25-29): 5 x ResnetBlockBigGANpp(\n",
       "      (GroupNorm_0): GroupNorm(32, 256, eps=1e-06, affine=True)\n",
       "      (Conv_0): Conv2d(256, 256, kernel_size=(3, 3), stride=(1, 1), padding=(1, 1))\n",
       "      (Dense_0): Linear(in_features=512, out_features=256, bias=True)\n",
       "      (GroupNorm_1): GroupNorm(32, 256, eps=1e-06, affine=True)\n",
       "      (Dropout_0): Dropout(p=0.1, inplace=False)\n",
       "      (Conv_1): Conv2d(256, 256, kernel_size=(3, 3), stride=(1, 1), padding=(1, 1))\n",
       "      (act): SiLU()\n",
       "    )\n",
       "    (30): AttnBlockpp(\n",
       "      (GroupNorm_0): GroupNorm(32, 256, eps=1e-06, affine=True)\n",
       "      (NIN_0): NIN()\n",
       "      (NIN_1): NIN()\n",
       "      (NIN_2): NIN()\n",
       "      (NIN_3): NIN()\n",
       "    )\n",
       "    (31): ResnetBlockBigGANpp(\n",
       "      (GroupNorm_0): GroupNorm(32, 256, eps=1e-06, affine=True)\n",
       "      (Conv_0): Conv2d(256, 256, kernel_size=(3, 3), stride=(1, 1), padding=(1, 1))\n",
       "      (Dense_0): Linear(in_features=512, out_features=256, bias=True)\n",
       "      (GroupNorm_1): GroupNorm(32, 256, eps=1e-06, affine=True)\n",
       "      (Dropout_0): Dropout(p=0.1, inplace=False)\n",
       "      (Conv_1): Conv2d(256, 256, kernel_size=(3, 3), stride=(1, 1), padding=(1, 1))\n",
       "      (act): SiLU()\n",
       "    )\n",
       "    (32-36): 5 x CondResnetBlockBigGANpp(\n",
       "      (GroupNorm_0): GroupNorm(32, 512, eps=1e-06, affine=True)\n",
       "      (Conv_0): Conv2d(512, 256, kernel_size=(3, 3), stride=(1, 1), padding=(1, 1))\n",
       "      (Dense_0): Linear(in_features=512, out_features=256, bias=True)\n",
       "      (GroupNorm_1): GroupNorm(32, 256, eps=1e-06, affine=True)\n",
       "      (Dropout_0): Dropout(p=0.1, inplace=False)\n",
       "      (Conv_1): Conv2d(256, 256, kernel_size=(3, 3), stride=(1, 1), padding=(1, 1))\n",
       "      (Conv_2): Conv2d(512, 256, kernel_size=(1, 1), stride=(1, 1))\n",
       "      (act): SiLU()\n",
       "    )\n",
       "    (37): CondResnetBlockBigGANpp(\n",
       "      (GroupNorm_0): GroupNorm(32, 256, eps=1e-06, affine=True)\n",
       "      (Conv_0): Conv2d(256, 256, kernel_size=(3, 3), stride=(1, 1), padding=(1, 1))\n",
       "      (Dense_0): Linear(in_features=512, out_features=256, bias=True)\n",
       "      (GroupNorm_1): GroupNorm(32, 256, eps=1e-06, affine=True)\n",
       "      (Dropout_0): Dropout(p=0.1, inplace=False)\n",
       "      (Conv_1): Conv2d(256, 256, kernel_size=(3, 3), stride=(1, 1), padding=(1, 1))\n",
       "      (Conv_2): Conv2d(256, 256, kernel_size=(1, 1), stride=(1, 1))\n",
       "      (act): SiLU()\n",
       "    )\n",
       "    (38-42): 5 x CondResnetBlockBigGANpp(\n",
       "      (GroupNorm_0): GroupNorm(32, 512, eps=1e-06, affine=True)\n",
       "      (Conv_0): Conv2d(512, 256, kernel_size=(3, 3), stride=(1, 1), padding=(1, 1))\n",
       "      (Dense_0): Linear(in_features=512, out_features=256, bias=True)\n",
       "      (GroupNorm_1): GroupNorm(32, 256, eps=1e-06, affine=True)\n",
       "      (Dropout_0): Dropout(p=0.1, inplace=False)\n",
       "      (Conv_1): Conv2d(256, 256, kernel_size=(3, 3), stride=(1, 1), padding=(1, 1))\n",
       "      (Conv_2): Conv2d(512, 256, kernel_size=(1, 1), stride=(1, 1))\n",
       "      (act): SiLU()\n",
       "    )\n",
       "    (43): CondResnetBlockBigGANpp(\n",
       "      (GroupNorm_0): GroupNorm(32, 256, eps=1e-06, affine=True)\n",
       "      (Conv_0): Conv2d(256, 256, kernel_size=(3, 3), stride=(1, 1), padding=(1, 1))\n",
       "      (Dense_0): Linear(in_features=512, out_features=256, bias=True)\n",
       "      (GroupNorm_1): GroupNorm(32, 256, eps=1e-06, affine=True)\n",
       "      (Dropout_0): Dropout(p=0.1, inplace=False)\n",
       "      (Conv_1): Conv2d(256, 256, kernel_size=(3, 3), stride=(1, 1), padding=(1, 1))\n",
       "      (Conv_2): Conv2d(256, 256, kernel_size=(1, 1), stride=(1, 1))\n",
       "      (act): SiLU()\n",
       "    )\n",
       "    (44-47): 4 x CondResnetBlockBigGANpp(\n",
       "      (GroupNorm_0): GroupNorm(32, 512, eps=1e-06, affine=True)\n",
       "      (Conv_0): Conv2d(512, 256, kernel_size=(3, 3), stride=(1, 1), padding=(1, 1))\n",
       "      (Dense_0): Linear(in_features=512, out_features=256, bias=True)\n",
       "      (GroupNorm_1): GroupNorm(32, 256, eps=1e-06, affine=True)\n",
       "      (Dropout_0): Dropout(p=0.1, inplace=False)\n",
       "      (Conv_1): Conv2d(256, 256, kernel_size=(3, 3), stride=(1, 1), padding=(1, 1))\n",
       "      (Conv_2): Conv2d(512, 256, kernel_size=(1, 1), stride=(1, 1))\n",
       "      (act): SiLU()\n",
       "    )\n",
       "    (48): CondResnetBlockBigGANpp(\n",
       "      (GroupNorm_0): GroupNorm(32, 384, eps=1e-06, affine=True)\n",
       "      (Conv_0): Conv2d(384, 256, kernel_size=(3, 3), stride=(1, 1), padding=(1, 1))\n",
       "      (Dense_0): Linear(in_features=512, out_features=256, bias=True)\n",
       "      (GroupNorm_1): GroupNorm(32, 256, eps=1e-06, affine=True)\n",
       "      (Dropout_0): Dropout(p=0.1, inplace=False)\n",
       "      (Conv_1): Conv2d(256, 256, kernel_size=(3, 3), stride=(1, 1), padding=(1, 1))\n",
       "      (Conv_2): Conv2d(384, 256, kernel_size=(1, 1), stride=(1, 1))\n",
       "      (act): SiLU()\n",
       "    )\n",
       "    (49): AttnBlockpp(\n",
       "      (GroupNorm_0): GroupNorm(32, 256, eps=1e-06, affine=True)\n",
       "      (NIN_0): NIN()\n",
       "      (NIN_1): NIN()\n",
       "      (NIN_2): NIN()\n",
       "      (NIN_3): NIN()\n",
       "    )\n",
       "    (50): CondResnetBlockBigGANpp(\n",
       "      (GroupNorm_0): GroupNorm(32, 256, eps=1e-06, affine=True)\n",
       "      (Conv_0): Conv2d(256, 256, kernel_size=(3, 3), stride=(1, 1), padding=(1, 1))\n",
       "      (Dense_0): Linear(in_features=512, out_features=256, bias=True)\n",
       "      (GroupNorm_1): GroupNorm(32, 256, eps=1e-06, affine=True)\n",
       "      (Dropout_0): Dropout(p=0.1, inplace=False)\n",
       "      (Conv_1): Conv2d(256, 256, kernel_size=(3, 3), stride=(1, 1), padding=(1, 1))\n",
       "      (Conv_2): Conv2d(256, 256, kernel_size=(1, 1), stride=(1, 1))\n",
       "      (act): SiLU()\n",
       "    )\n",
       "    (51): CondResnetBlockBigGANpp(\n",
       "      (GroupNorm_0): GroupNorm(32, 384, eps=1e-06, affine=True)\n",
       "      (Conv_0): Conv2d(384, 128, kernel_size=(3, 3), stride=(1, 1), padding=(1, 1))\n",
       "      (Dense_0): Linear(in_features=512, out_features=128, bias=True)\n",
       "      (GroupNorm_1): GroupNorm(32, 128, eps=1e-06, affine=True)\n",
       "      (Dropout_0): Dropout(p=0.1, inplace=False)\n",
       "      (Conv_1): Conv2d(128, 128, kernel_size=(3, 3), stride=(1, 1), padding=(1, 1))\n",
       "      (Conv_2): Conv2d(384, 128, kernel_size=(1, 1), stride=(1, 1))\n",
       "      (act): SiLU()\n",
       "    )\n",
       "    (52-55): 4 x CondResnetBlockBigGANpp(\n",
       "      (GroupNorm_0): GroupNorm(32, 256, eps=1e-06, affine=True)\n",
       "      (Conv_0): Conv2d(256, 128, kernel_size=(3, 3), stride=(1, 1), padding=(1, 1))\n",
       "      (Dense_0): Linear(in_features=512, out_features=128, bias=True)\n",
       "      (GroupNorm_1): GroupNorm(32, 128, eps=1e-06, affine=True)\n",
       "      (Dropout_0): Dropout(p=0.1, inplace=False)\n",
       "      (Conv_1): Conv2d(128, 128, kernel_size=(3, 3), stride=(1, 1), padding=(1, 1))\n",
       "      (Conv_2): Conv2d(256, 128, kernel_size=(1, 1), stride=(1, 1))\n",
       "      (act): SiLU()\n",
       "    )\n",
       "    (56): GroupNorm(32, 128, eps=1e-06, affine=True)\n",
       "    (57): Conv2d(128, 1, kernel_size=(3, 3), stride=(1, 1), padding=(1, 1))\n",
       "  )\n",
       ")"
      ]
     },
     "execution_count": 2,
     "metadata": {},
     "output_type": "execute_result"
    }
   ],
   "source": [
    "device = \"cuda:0\"\n",
    "config = ncsnpp_config.get_config()\n",
    "score_model = (ncsnpp.NCSNpp(config)).to(\"cuda:0\")\n",
    "score_model.load_state_dict(th.load((home_folder + \"/trained_score_models/vpsde/model2_beta_min_max_01_20_random50_masks.pth\")))\n",
    "score_model.eval()"
   ]
  },
  {
   "cell_type": "code",
   "execution_count": 46,
   "metadata": {},
   "outputs": [],
   "source": [
    "\n",
    "\n",
    "def construct_norm_matrix(minX, maxX, minY, maxY, n):\n",
    "    # create one-dimensional arrays for x and y\n",
    "    x = np.linspace(minX, maxX, n)\n",
    "    y = np.linspace(minY, maxY, n)\n",
    "    # create the mesh based on these arrays\n",
    "    X, Y = np.meshgrid(x, y)\n",
    "    X = X.reshape((np.prod(X.shape),1))\n",
    "    Y = Y.reshape((np.prod(Y.shape),1))\n",
    "    X_matrix = (np.repeat(X, n**2, axis = 0)).reshape((n**2, n**2))\n",
    "    Y_matrix = (np.repeat(Y, n**2, axis = 0)).reshape((n**2, n**2))\n",
    "    longitude_squared = np.square(np.subtract(X_matrix, np.transpose(X_matrix)))\n",
    "    latitude_squared = np.square(np.subtract(Y_matrix, np.transpose(Y_matrix)))\n",
    "    norm_matrix = np.sqrt(np.add(longitude_squared, latitude_squared))\n",
    "    return norm_matrix\n",
    "\n",
    "def construct_exp_kernel(minX, maxX, minY, maxY, n, variance, lengthscale):\n",
    "\n",
    "    norm_matrix = construct_norm_matrix(minX, maxX, minY, maxY, n)\n",
    "    exp_kernel = variance*np.exp((-1/lengthscale)*norm_matrix)\n",
    "    return(exp_kernel)\n",
    "\n",
    "def generate_gaussian_process(minX, maxX, minY, maxY, n, variance, lengthscale, number_of_replicates,\n",
    "                              seed_value):\n",
    "\n",
    "    kernel = construct_exp_kernel(minX, maxX, minY, maxY, n, variance, lengthscale)\n",
    "    np.random.seed(seed_value)\n",
    "    z_matrix = np.random.multivariate_normal(np.zeros(n**2), np.identity(n**2), number_of_replicates)\n",
    "    C = np.linalg.cholesky(kernel)\n",
    "    y_matrix = np.matmul(np.transpose(C),\n",
    "                                  np.transpose(z_matrix))\n",
    "    \n",
    "    gp_matrix = np.zeros((number_of_replicates,1,n,n))\n",
    "    for i in range(0, y_matrix.shape[1]):\n",
    "        gp_matrix[i,:,:,:] = y_matrix[:,i].reshape((1,n,n))\n",
    "    return gp_matrix\n",
    "\n",
    "#y is observed part of field\n",
    "def p_mean_and_variance_from_score_via_mask(vpsde, score_model, device, masked_xt, mask, y, t):\n",
    "\n",
    "    num_samples = masked_xt.shape[0]\n",
    "    timestep = ((torch.tensor([t])).repeat(num_samples)).to(device)\n",
    "    with th.no_grad():\n",
    "        score = score_model(masked_xt, timestep)\n",
    "    unmasked_p_mean = (1/th.sqrt(th.tensor(vpsde.alphas[t])))*(masked_xt + th.square(th.tensor(vpsde.sigmas[t]))*score)\n",
    "    masked_p_mean = torch.mul((1-mask), unmasked_p_mean) + torch.mul(mask, y)\n",
    "    unmasked_p_variance = (th.square(th.tensor(vpsde.sigmas[t])))*th.ones_like(masked_xt)\n",
    "    masked_p_variance = torch.mul((1-mask), unmasked_p_variance)\n",
    "    return masked_p_mean, masked_p_variance\n",
    "\n",
    "def sample_with_p_mean_variance_via_mask(vpsde, score_model, device, masked_xt, mask, y, t, num_samples):\n",
    "\n",
    "    p_mean, p_variance = p_mean_and_variance_from_score_via_mask(vpsde, score_model, device, masked_xt, mask, y, t)\n",
    "    std = th.exp(0.5 * th.log(p_variance))\n",
    "    noise = th.randn_like(masked_xt)\n",
    "    #just to make sure that the masked values aren't perturbed by the noise, the variance should already be masked though\n",
    "    masked_noise = torch.mul((1-mask), noise)\n",
    "    sample = p_mean + std*masked_noise\n",
    "    return sample\n",
    "\n",
    "\n",
    "def posterior_sample_with_p_mean_variance_via_mask(vpsde, score_model, device, mask, y, n, num_samples):\n",
    "\n",
    "    unmasked_xT = th.randn((num_samples, 1, n, n)).to(device)\n",
    "    masked_xT = th.mul((1-mask), unmasked_xT) + torch.mul(mask, y)\n",
    "    masked_xt = masked_xT\n",
    "    for t in range((vpsde.N-1), 0, -1):\n",
    "        masked_xt = sample_with_p_mean_variance_via_mask(vpsde, score_model, device, masked_xt,\n",
    "                                                         mask, y, t, num_samples)\n",
    "\n",
    "    return masked_xt\n",
    "\n",
    "\n",
    "\n",
    "def visualize_sample(diffusion_sample, n):\n",
    "\n",
    "    fig, ax = plt.subplots(figsize = (5,5))\n",
    "    ax.imshow(diffusion_sample.detach().cpu().numpy().reshape((n,n)), vmin = -2, vmax = 2)\n",
    "    plt.show()"
   ]
  },
  {
   "cell_type": "code",
   "execution_count": 47,
   "metadata": {},
   "outputs": [],
   "source": [
    "sdevp = VPSDE(beta_min=0.1, beta_max=20, N=1000)\n",
    "n = 32\n",
    "mask = torch.ones((1,1,n,n)).to(device)\n",
    "mask[:,:,int(n/4):int(3*n/4),int(n/4):int(3*n/4)] = 0\n",
    "num_samples = 1\n",
    "minX = -10\n",
    "maxX = 10\n",
    "minY = -10\n",
    "maxY = 10\n",
    "variance = .4\n",
    "lengthscale = 1.6\n",
    "number_of_replicates = 1\n",
    "seed_value = 43234\n",
    "unmasked_y = (th.from_numpy(generate_gaussian_process(minX, maxX, minY, maxY, n, variance,\n",
    "                                                     lengthscale, number_of_replicates,\n",
    "                                                     seed_value))).to(device)\n",
    "y = ((torch.mul(mask, unmasked_y)).to(device)).float()"
   ]
  },
  {
   "cell_type": "code",
   "execution_count": 61,
   "metadata": {},
   "outputs": [
    {
     "name": "stderr",
     "output_type": "stream",
     "text": [
      "/tmp/ipykernel_15319/1837873183.py:66: UserWarning: To copy construct from a tensor, it is recommended to use sourceTensor.clone().detach() or sourceTensor.clone().detach().requires_grad_(True), rather than torch.tensor(sourceTensor).\n",
      "  unmasked_p_mean = (1/th.sqrt(th.tensor(vpsde.alphas[t])))*(masked_xt + th.square(th.tensor(vpsde.sigmas[t]))*score)\n",
      "/tmp/ipykernel_15319/1837873183.py:68: UserWarning: To copy construct from a tensor, it is recommended to use sourceTensor.clone().detach() or sourceTensor.clone().detach().requires_grad_(True), rather than torch.tensor(sourceTensor).\n",
      "  unmasked_p_variance = (th.square(th.tensor(vpsde.sigmas[t])))*th.ones_like(masked_xt)\n"
     ]
    }
   ],
   "source": [
    "masked_xt = (torch.randn_like(y)).to(device)\n",
    "t = 5\n",
    "p_mean, p_variance = p_mean_and_variance_from_score_via_mask(sdevp, score_model, device,\n",
    "                                                             masked_xt, mask, y, t)"
   ]
  },
  {
   "cell_type": "code",
   "execution_count": 41,
   "metadata": {},
   "outputs": [
    {
     "name": "stderr",
     "output_type": "stream",
     "text": [
      "/tmp/ipykernel_15319/1135789620.py:66: UserWarning: To copy construct from a tensor, it is recommended to use sourceTensor.clone().detach() or sourceTensor.clone().detach().requires_grad_(True), rather than torch.tensor(sourceTensor).\n",
      "  unmasked_p_mean = (1/th.sqrt(th.tensor(vpsde.alphas[t])))*(masked_xt + th.square(th.tensor(vpsde.sigmas[t]))*score)\n",
      "/tmp/ipykernel_15319/1135789620.py:68: UserWarning: To copy construct from a tensor, it is recommended to use sourceTensor.clone().detach() or sourceTensor.clone().detach().requires_grad_(True), rather than torch.tensor(sourceTensor).\n",
      "  unmasked_p_variance = (th.square(th.tensor(vpsde.sigmas[t])))*th.ones_like(masked_xt)\n"
     ]
    }
   ],
   "source": [
    "sample = sample_with_p_mean_variance_via_mask(sdevp, score_model, device, masked_xt, mask, y, t, num_samples)"
   ]
  },
  {
   "cell_type": "code",
   "execution_count": 48,
   "metadata": {},
   "outputs": [
    {
     "name": "stderr",
     "output_type": "stream",
     "text": [
      "/tmp/ipykernel_15319/1837873183.py:66: UserWarning: To copy construct from a tensor, it is recommended to use sourceTensor.clone().detach() or sourceTensor.clone().detach().requires_grad_(True), rather than torch.tensor(sourceTensor).\n",
      "  unmasked_p_mean = (1/th.sqrt(th.tensor(vpsde.alphas[t])))*(masked_xt + th.square(th.tensor(vpsde.sigmas[t]))*score)\n",
      "/tmp/ipykernel_15319/1837873183.py:68: UserWarning: To copy construct from a tensor, it is recommended to use sourceTensor.clone().detach() or sourceTensor.clone().detach().requires_grad_(True), rather than torch.tensor(sourceTensor).\n",
      "  unmasked_p_variance = (th.square(th.tensor(vpsde.sigmas[t])))*th.ones_like(masked_xt)\n"
     ]
    },
    {
     "data": {
      "image/png": "[encoded data removed]",
      "text/plain": [
       "<Figure size 500x500 with 1 Axes>"
      ]
     },
     "metadata": {},
     "output_type": "display_data"
    }
   ],
   "source": [
    "n = 32\n",
    "num_samples = 1\n",
    "diffusion_sample = posterior_sample_with_p_mean_variance_via_mask(sdevp, score_model,\n",
    "                                                                  device, mask, y, n,\n",
    "                                                                  num_samples)\n",
    "visualize_sample(diffusion_sample, n)"
   ]
  },
  {
   "cell_type": "code",
   "execution_count": 62,
   "metadata": {},
   "outputs": [
    {
     "name": "stderr",
     "output_type": "stream",
     "text": [
      "/tmp/ipykernel_15319/1837873183.py:66: UserWarning: To copy construct from a tensor, it is recommended to use sourceTensor.clone().detach() or sourceTensor.clone().detach().requires_grad_(True), rather than torch.tensor(sourceTensor).\n",
      "  unmasked_p_mean = (1/th.sqrt(th.tensor(vpsde.alphas[t])))*(masked_xt + th.square(th.tensor(vpsde.sigmas[t]))*score)\n",
      "/tmp/ipykernel_15319/1837873183.py:68: UserWarning: To copy construct from a tensor, it is recommended to use sourceTensor.clone().detach() or sourceTensor.clone().detach().requires_grad_(True), rather than torch.tensor(sourceTensor).\n",
      "  unmasked_p_variance = (th.square(th.tensor(vpsde.sigmas[t])))*th.ones_like(masked_xt)\n"
     ]
    }
   ],
   "source": [
    "n = 32\n",
    "num_samples = 100\n",
    "diffusion_samples = posterior_sample_with_p_mean_variance_via_mask(sdevp, score_model,\n",
    "                                                                  device, mask, y, n,\n",
    "                                                                  num_samples)"
   ]
  },
  {
   "cell_type": "code",
   "execution_count": 50,
   "metadata": {},
   "outputs": [
    {
     "data": {
      "image/png": "[encoded data removed]",
      "text/plain": [
       "<Figure size 500x500 with 1 Axes>"
      ]
     },
     "metadata": {},
     "output_type": "display_data"
    }
   ],
   "source": [
    "visualize_sample(diffusion_samples[0,:,:,:], n)"
   ]
  },
  {
   "cell_type": "code",
   "execution_count": 51,
   "metadata": {},
   "outputs": [
    {
     "data": {
      "image/png": "[encoded data removed]",
      "text/plain": [
       "<Figure size 500x500 with 1 Axes>"
      ]
     },
     "metadata": {},
     "output_type": "display_data"
    }
   ],
   "source": [
    "visualize_sample(diffusion_samples[0,:,:,:], n)"
   ]
  },
  {
   "cell_type": "code",
   "execution_count": 52,
   "metadata": {},
   "outputs": [
    {
     "data": {
      "image/png": "[encoded data removed]",
      "text/plain": [
       "<Figure size 500x500 with 1 Axes>"
      ]
     },
     "metadata": {},
     "output_type": "display_data"
    }
   ],
   "source": [
    "visualize_sample(diffusion_samples[1,:,:,:], n)"
   ]
  },
  {
   "cell_type": "code",
   "execution_count": 57,
   "metadata": {},
   "outputs": [],
   "source": [
    "diffusion_samples[:,:,:int(n/4),:] = 0\n",
    "diffusion_samples[:,:,int(3*n/4):,] = 0\n",
    "diffusion_samples[:,:,:,:int(n/4)] = 0\n",
    "diffusion_samples[:,:,:,int(3*n/4):] = 0"
   ]
  },
  {
   "cell_type": "code",
   "execution_count": 58,
   "metadata": {},
   "outputs": [
    {
     "data": {
      "image/png": "[encoded data removed]",
      "text/plain": [
       "<Figure size 500x500 with 1 Axes>"
      ]
     },
     "metadata": {},
     "output_type": "display_data"
    }
   ],
   "source": [
    "visualize_sample(diffusion_samples[3,:,:,:], n)"
   ]
  },
  {
   "cell_type": "code",
   "execution_count": 59,
   "metadata": {},
   "outputs": [
    {
     "data": {
      "image/png": "[encoded data removed]",
      "text/plain": [
       "<Figure size 500x500 with 1 Axes>"
      ]
     },
     "metadata": {},
     "output_type": "display_data"
    }
   ],
   "source": [
    "visualize_sample(diffusion_samples[2,:,:,:], n)"
   ]
  },
  {
   "cell_type": "code",
   "execution_count": 60,
   "metadata": {},
   "outputs": [
    {
     "data": {
      "image/png": "[encoded data removed]",
      "text/plain": [
       "<Figure size 500x500 with 1 Axes>"
      ]
     },
     "metadata": {},
     "output_type": "display_data"
    }
   ],
   "source": [
    "visualize_sample(diffusion_samples[1,:,:,:], n)"
   ]
  },
  {
   "cell_type": "code",
   "execution_count": null,
   "metadata": {},
   "outputs": [],
   "source": [
    "num_samples = 5\n",
    "diffusion_sample = posterior_sample_with_p_mean_variance_via_mask(sdevp, score_model,\n",
    "                                                                  device, mask, y, n,\n",
    "                                                                  num_samples)"
   ]
  }
 ],
 "metadata": {
  "kernelspec": {
   "display_name": "ncs-tds",
   "language": "python",
   "name": "python3"
  },
  "language_info": {
   "codemirror_mode": {
    "name": "ipython",
    "version": 3
   },
   "file_extension": ".py",
   "mimetype": "text/x-python",
   "name": "python",
   "nbconvert_exporter": "python",
   "pygments_lexer": "ipython3",
   "version": "3.9.13"
  }
 },
 "nbformat": 4,
 "nbformat_minor": 2
}
