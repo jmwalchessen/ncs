{
 "cells": [
  {
   "cell_type": "code",
   "execution_count": 2,
   "metadata": {},
   "outputs": [
    {
     "name": "stdout",
     "output_type": "stream",
     "text": [
      "/home/localpc/Dropbox/diffusion/twisted_diffusion/sde_diffusion/masked/unparameterized_masked_score/evaluation/diffusion_generation\n"
     ]
    }
   ],
   "source": [
    "import numpy as np\n",
    "import torch as th\n",
    "import matplotlib.pyplot as plt\n",
    "from matplotlib import patches as mpatches\n",
    "import seaborn as sns\n",
    "import pandas as pd\n",
    "import os\n",
    "import sys\n",
    "from append_directories import *\n",
    "data_generation_folder = (append_directory(2) + \"/diffusion_generation\")\n",
    "print(data_generation_folder)\n",
    "sys.path.append(data_generation_folder)\n",
    "from generate_true_conditional_samples import *"
   ]
  },
  {
   "cell_type": "code",
   "execution_count": 3,
   "metadata": {},
   "outputs": [],
   "source": [
    "n = 32\n",
    "number_of_replicates = 4000 \n",
    "conditional_samples = np.load((data_generation_folder + \"/data/model2/ref_image1/diffusion/model2_random50_beta_min_max_01_20_1000.npy\"))\n",
    "conditional_samples = conditional_samples.reshape((number_of_replicates,n,n))\n",
    "#mask = np.load((data_generation_folder + \"/data/ref_image1/mask.npy\"), allow_pickle = True)\n",
    "n = 32\n",
    "#mask = th.zeros((1,n,n))\n",
    "#mask[:, int(n/4):int(n/4*3), int(n/4):int(n/4*3)] = 1\n",
    "device = \"cuda:0\"\n",
    "p = .4\n",
    "mask = np.load((data_generation_folder + \"/data/model4/ref_image1/mask.npy\"))\n",
    "ref_image = (np.load((data_generation_folder + \"/data/model4/ref_image1/ref_image.npy\")))\n",
    "minX = -10\n",
    "maxX = 10\n",
    "minY = -10\n",
    "maxY = 10\n",
    "variance = .4\n",
    "lengthscale = 1.6                                                                                        \n",
    "missing_indices = np.squeeze(np.argwhere((1-mask).reshape((n**2,))))\n",
    "mask_type = \"random40\"\n",
    "folder_name = (data_generation_folder + \"/data/model4/ref_image1/marginal_density\")\n",
    "m = missing_indices.shape[0]\n",
    "observed_vector = ref_image.reshape((n**2))\n",
    "observed_vector = np.delete(observed_vector, missing_indices)"
   ]
  },
  {
   "cell_type": "code",
   "execution_count": null,
   "metadata": {},
   "outputs": [],
   "source": []
  }
 ],
 "metadata": {
  "kernelspec": {
   "display_name": "ncs-tds",
   "language": "python",
   "name": "python3"
  },
  "language_info": {
   "codemirror_mode": {
    "name": "ipython",
    "version": 3
   },
   "file_extension": ".py",
   "mimetype": "text/x-python",
   "name": "python",
   "nbconvert_exporter": "python",
   "pygments_lexer": "ipython3",
   "version": "3.9.13"
  }
 },
 "nbformat": 4,
 "nbformat_minor": 2
}
