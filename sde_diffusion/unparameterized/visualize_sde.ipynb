{
 "cells": [
  {
   "cell_type": "code",
   "execution_count": 23,
   "metadata": {},
   "outputs": [],
   "source": [
    "from sde_lib import *"
   ]
  },
  {
   "cell_type": "code",
   "execution_count": 24,
   "metadata": {},
   "outputs": [],
   "source": [
    "sdeve = VESDE(sigma_min=0.01, sigma_max=50, N = 1000)"
   ]
  },
  {
   "cell_type": "code",
   "execution_count": 25,
   "metadata": {},
   "outputs": [],
   "source": [
    "x = torch.ones((1,1,32,32))\n",
    "xt = vesde.forward_sampling(x,1)"
   ]
  },
  {
   "cell_type": "code",
   "execution_count": 32,
   "metadata": {},
   "outputs": [],
   "source": [
    "xt1 = x + sdeve.discrete_sigmas[999]*torch.randn_like(x)"
   ]
  },
  {
   "cell_type": "code",
   "execution_count": 40,
   "metadata": {},
   "outputs": [
    {
     "data": {
      "text/plain": [
       "tensor([1.0000e-02, 2.3457e-02, 5.5022e-02, 1.2906e-01, 3.0274e-01, 7.1013e-01,\n",
       "        1.6657e+00, 3.9072e+00, 9.1651e+00, 2.1498e+01], dtype=torch.float64)"
      ]
     },
     "execution_count": 40,
     "metadata": {},
     "output_type": "execute_result"
    }
   ],
   "source": [
    "sdeve.discrete_sigmas[::100]"
   ]
  },
  {
   "cell_type": "code",
   "execution_count": 34,
   "metadata": {},
   "outputs": [
    {
     "data": {
      "text/plain": [
       "tensor(50.4821)"
      ]
     },
     "execution_count": 34,
     "metadata": {},
     "output_type": "execute_result"
    }
   ],
   "source": [
    "xt1.std()"
   ]
  },
  {
   "cell_type": "code",
   "execution_count": 37,
   "metadata": {},
   "outputs": [
    {
     "data": {
      "image/png": "[encoded data removed]",
      "text/plain": [
       "<Figure size 640x480 with 1 Axes>"
      ]
     },
     "metadata": {},
     "output_type": "display_data"
    }
   ],
   "source": [
    "import matplotlib.pyplot as plt\n",
    "plt.imshow(xt1.reshape((32,32)), vmin = -200, vmax = 200)\n",
    "plt.show()"
   ]
  },
  {
   "cell_type": "code",
   "execution_count": 19,
   "metadata": {},
   "outputs": [
    {
     "data": {
      "image/png": "[encoded data removed]",
      "text/plain": [
       "<Figure size 640x480 with 1 Axes>"
      ]
     },
     "metadata": {},
     "output_type": "display_data"
    }
   ],
   "source": [
    "plt.imshow((torch.randn_like(x)).reshape((32,32)))\n",
    "plt.show()"
   ]
  },
  {
   "cell_type": "code",
   "execution_count": 41,
   "metadata": {},
   "outputs": [],
   "source": [
    "\n",
    "def batch_mul(a, b):\n",
    "  return torch.vmap(lambda a, b: a * b)(a, b)"
   ]
  },
  {
   "cell_type": "code",
   "execution_count": 65,
   "metadata": {},
   "outputs": [],
   "source": [
    "batch = (torch.ones((32,1,32,32))).to(\"cuda:0\")\n",
    "labels = torch.randint(0, vesde.N, (32,), device=\"cuda:0\")\n",
    "discrete_sigmas = vesde.discrete_sigmas\n",
    "sigmas = discrete_sigmas[labels.cpu()].to(\"cuda:0\")\n",
    "#rng, step_rng = random.split(rng)\n",
    "noise = torch.randn_like(batch)\n",
    "scaled_noise = batch_mul(noise, sigmas)\n",
    "perturbed_data = scaled_noise + batch"
   ]
  },
  {
   "cell_type": "code",
   "execution_count": null,
   "metadata": {},
   "outputs": [],
   "source": [
    "from losses import *"
   ]
  },
  {
   "cell_type": "code",
   "execution_count": null,
   "metadata": {},
   "outputs": [],
   "source": [
    "sdeve = VESDE(sigma_min=0.01, sigma_max=50, N = 1000)"
   ]
  },
  {
   "cell_type": "code",
   "execution_count": null,
   "metadata": {},
   "outputs": [],
   "source": [
    "from configs.ve import ncsnpp_config as ve_ncsnpp_config\n",
    "from models.ncsnpp import *"
   ]
  },
  {
   "cell_type": "code",
   "execution_count": 66,
   "metadata": {},
   "outputs": [],
   "source": [
    "batch = torch.ones((32,1,32,32)).to(\"cuda:0\")"
   ]
  },
  {
   "cell_type": "code",
   "execution_count": null,
   "metadata": {},
   "outputs": [],
   "source": [
    "model = (NCSNpp(config)).to(config.device)"
   ]
  },
  {
   "cell_type": "code",
   "execution_count": 67,
   "metadata": {},
   "outputs": [],
   "source": [
    "sigmas = sdeve.discrete_sigmas\n",
    "#smld_sigma_array = vesde.discrete_sigmas[::-1]\n",
    "smld_sigma_array = sigmas\n",
    "reduce_op = torch.mean\n",
    "\n",
    "def loss_fn(model, batch):\n",
    "    model_fn = mutils.get_model_fn(model, train=False)\n",
    "    #rng, step_rng = random.split(rng)\n",
    "    #labels = random.choice(step_rng, vesde.N, shape=(data.shape[0],))\n",
    "    labels = torch.randint(0, sdeve.N, (batch.shape[0],), device=batch.device)\n",
    "    sigmas = smld_sigma_array[labels.cpu()].to(batch.device)\n",
    "    sigmas = sigmas.view((batch.shape[0],1,1,1))\n",
    "    #rng, step_rng = random.split(rng)\n",
    "    noise = torch.randn_like(batch)\n",
    "    #scaled_noise = batch_mul(noise, sigmas)\n",
    "    scaled_noise = (torch.mul(noise, sigmas)).float()\n",
    "    perturbed_data = scaled_noise + batch\n",
    "    #rng, step_rng = random.split(rng)\n",
    "    score = model_fn(perturbed_data, labels)\n",
    "    print(score)\n",
    "    #target = -batch_mul(noise, 1. / (sigmas ** 2))\n",
    "    target = -torch.mul(noise, (1/sigmas**2))\n",
    "    #target = -batch_mul(noise, (1/sigmas))\n",
    "    losses = torch.square(score - target)\n",
    "    #losses = batch_mul(losses, (1/sigmas**2))\n",
    "    losses = reduce_op(losses.reshape((losses.shape[0], -1)), axis=-1)\n",
    "    losses = losses * (sigmas ** 2)\n",
    "    loss = torch.mean(losses)\n"
   ]
  },
  {
   "cell_type": "code",
   "execution_count": 63,
   "metadata": {},
   "outputs": [
    {
     "data": {
      "text/plain": [
       "tensor(35.7448, device='cuda:0')"
      ]
     },
     "execution_count": 63,
     "metadata": {},
     "output_type": "execute_result"
    }
   ],
   "source": [
    "perturbed_data[17,:,:,:].std()"
   ]
  },
  {
   "cell_type": "code",
   "execution_count": 64,
   "metadata": {},
   "outputs": [
    {
     "data": {
      "image/png": "[encoded data removed]",
      "text/plain": [
       "<Figure size 640x480 with 1 Axes>"
      ]
     },
     "metadata": {},
     "output_type": "display_data"
    }
   ],
   "source": [
    "plt.imshow((perturbed_data[6,:,:]).detach().cpu().numpy().reshape((32,32)), vmin = .9, vmax = 1.1)\n",
    "plt.show()\n"
   ]
  }
 ],
 "metadata": {
  "kernelspec": {
   "display_name": "ncs-tds",
   "language": "python",
   "name": "python3"
  },
  "language_info": {
   "codemirror_mode": {
    "name": "ipython",
    "version": 3
   },
   "file_extension": ".py",
   "mimetype": "text/x-python",
   "name": "python",
   "nbconvert_exporter": "python",
   "pygments_lexer": "ipython3",
   "version": "3.9.13"
  }
 },
 "nbformat": 4,
 "nbformat_minor": 2
}
