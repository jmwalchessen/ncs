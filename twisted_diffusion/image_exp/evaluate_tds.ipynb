{
 "cells": [
  {
   "cell_type": "code",
   "execution_count": 98,
   "metadata": {},
   "outputs": [],
   "source": [
    "import torch as th\n",
    "import numpy as np\n",
    "from functools import partial\n",
    "import matplotlib.pyplot as plt\n",
    "from mpl_toolkits.axes_grid1 import ImageGrid"
   ]
  },
  {
   "cell_type": "code",
   "execution_count": 115,
   "metadata": {},
   "outputs": [],
   "source": [
    "def plot_fixed_location_histogram(observations, fixed_index, n):\n",
    "\n",
    "    fig, ax = plt.subplots()\n",
    "    ax.hist(observations, bins = 15)\n",
    "    ax.set_title((\"location \" + str(int(fixed_index%n)) + \"_\" + str(int(fixed_index / n))  + \" 100 replicates\"))\n",
    "    plt.savefig((\"visualizations/evaluation/single_location_histograms/diffusion/ref_image1/conditional_samples_location_\" +\n",
    "                str(int(fixed_index%n)) + \"_\" + str(int(fixed_index/n)) + \"_replicates_100_particles_4_ess_0_var_type_1_histogram.png\"))\n",
    "    plt.clf()\n",
    "    \n",
    "def plot_spatial_fields(observations, number_of_replicates, figname):\n",
    "\n",
    "    for i in range(number_of_replicates):\n",
    "        plt.imshow(observations[i,:,:], vmin = -1.5, vmax = 1.5)\n",
    "        plt.savefig((figname + \"_\" + str(i) + \".png\"))\n",
    "        plt.clf()\n",
    "\n",
    "def plot_spatial_field(observation, figname):\n",
    "\n",
    "    plt.imshow(observation, vmin = -1.5, vmax = 1.5)\n",
    "    plt.savefig(figname)\n",
    "    plt.clf()\n",
    "\n"
   ]
  },
  {
   "cell_type": "code",
   "execution_count": 108,
   "metadata": {},
   "outputs": [
    {
     "name": "stdout",
     "output_type": "stream",
     "text": [
      "[[-5.48387097 -5.48387097]\n",
      " [-0.32258065 -5.48387097]\n",
      " [-5.48387097  0.32258065]\n",
      " [ 0.32258065  0.32258065]\n",
      " [ 5.48387097  0.32258065]\n",
      " [-5.48387097  5.48387097]\n",
      " [ 0.32258065  5.48387097]\n",
      " [ 5.48387097  5.48387097]]\n"
     ]
    }
   ],
   "source": [
    "minX = -10\n",
    "maxX = 10\n",
    "minY = -10\n",
    "maxY = 10\n",
    "n = 32\n",
    "m = 10\n",
    "x = np.linspace(minX, maxX, n)\n",
    "y = np.linspace(minY, maxY, n)\n",
    "X, Y = np.meshgrid(x, y)\n",
    "longitudes = X.reshape((np.prod(X.shape),1))\n",
    "latitudes = Y.reshape((np.prod(Y.shape),1))\n",
    "indices = [(7*n+7), (7*n+15), (16*n+7), (16*n+16), (16*n+24), (24*n+7), (24*n+16),\n",
    "           (24*n+24)]\n",
    "m = 8\n",
    "fixed_locations = np.zeros((m,2))\n",
    "fixed_locations[:,0] = longitudes[indices].reshape((m,))\n",
    "fixed_locations[:,1] = latitudes[indices].reshape((m,))\n",
    "print(fixed_locations)"
   ]
  },
  {
   "cell_type": "code",
   "execution_count": 116,
   "metadata": {},
   "outputs": [
    {
     "data": {
      "text/plain": [
       "<Figure size 640x480 with 0 Axes>"
      ]
     },
     "metadata": {},
     "output_type": "display_data"
    },
    {
     "data": {
      "text/plain": [
       "<Figure size 640x480 with 0 Axes>"
      ]
     },
     "metadata": {},
     "output_type": "display_data"
    },
    {
     "data": {
      "text/plain": [
       "<Figure size 640x480 with 0 Axes>"
      ]
     },
     "metadata": {},
     "output_type": "display_data"
    },
    {
     "data": {
      "text/plain": [
       "<Figure size 640x480 with 0 Axes>"
      ]
     },
     "metadata": {},
     "output_type": "display_data"
    },
    {
     "data": {
      "text/plain": [
       "<Figure size 640x480 with 0 Axes>"
      ]
     },
     "metadata": {},
     "output_type": "display_data"
    },
    {
     "data": {
      "text/plain": [
       "<Figure size 640x480 with 0 Axes>"
      ]
     },
     "metadata": {},
     "output_type": "display_data"
    },
    {
     "data": {
      "text/plain": [
       "<Figure size 640x480 with 0 Axes>"
      ]
     },
     "metadata": {},
     "output_type": "display_data"
    },
    {
     "data": {
      "text/plain": [
       "<Figure size 640x480 with 0 Axes>"
      ]
     },
     "metadata": {},
     "output_type": "display_data"
    }
   ],
   "source": [
    "replicate_numbers = 10\n",
    "for i in range(m):\n",
    "    single_diffusion_images = np.load((\"visualizations/evaluation/single_location_histograms/diffusion/ref_image1/conditional_samples_location_\" +\n",
    "                                       str(int(indices[i]%n)) + \"_\" +\n",
    "                                      str(int(indices[i]/n)) + \"_replicates_100_particles_4_ess_0_var_type_1.npy\"))\n",
    "    plot_fixed_location_histogram(single_diffusion_images[:,int(indices[i]%n), int(indices[i]/n)],\n",
    "                                  indices[i], n)\n",
    "    plot_spatial_fields(single_diffusion_images, replicate_numbers,\n",
    "                        (\"visualizations/evaluation/single_location_histograms/diffusion/ref_image1/conditional_samples_location_\" +\n",
    "                         str(int(indices[i]%n)) + \"_\" + str(int(indices[i]/n)) + \"_particles_4_ess_0_var_type_1_replicate\"))"
   ]
  },
  {
   "cell_type": "code",
   "execution_count": 106,
   "metadata": {},
   "outputs": [
    {
     "data": {
      "text/plain": [
       "<Figure size 640x480 with 0 Axes>"
      ]
     },
     "metadata": {},
     "output_type": "display_data"
    }
   ],
   "source": [
    "ref_image = (np.load(\"visualizations/evaluation/single_location_histograms/diffusion/ref_image1/ref_image.npy\")).reshape((n,n))\n",
    "plot_spatial_field(ref_image, \"visualizations/evaluation/single_location_histograms/diffusion/ref_image1/ref_image.png\")"
   ]
  }
 ],
 "metadata": {
  "kernelspec": {
   "display_name": "ncs-tds",
   "language": "python",
   "name": "python3"
  },
  "language_info": {
   "codemirror_mode": {
    "name": "ipython",
    "version": 3
   },
   "file_extension": ".py",
   "mimetype": "text/x-python",
   "name": "python",
   "nbconvert_exporter": "python",
   "pygments_lexer": "ipython3",
   "version": "3.9.13"
  }
 },
 "nbformat": 4,
 "nbformat_minor": 2
}
