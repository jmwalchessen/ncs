{
 "cells": [
  {
   "cell_type": "code",
   "execution_count": 2,
   "metadata": {},
   "outputs": [
    {
     "name": "stdout",
     "output_type": "stream",
     "text": [
      "/home/julia/Dropbox/diffusion/twisted_diffusion/twisted_diffusion/image_exp/image_diffusion\n"
     ]
    },
    {
     "name": "stderr",
     "output_type": "stream",
     "text": [
      "/home/julia/Dropbox/diffusion/twisted_diffusion/sde_diffusion/models/ncsnpp.py:47: UserWarning: To copy construct from a tensor, it is recommended to use sourceTensor.clone().detach() or sourceTensor.clone().detach().requires_grad_(True), rather than torch.tensor(sourceTensor).\n",
      "  self.register_buffer('sigmas', torch.tensor(get_sigmas(config)))\n"
     ]
    }
   ],
   "source": [
    "import time\n",
    "import torch as th\n",
    "import matplotlib.pyplot as plt\n",
    "import os\n",
    "import sys\n",
    "from append_directories import *\n",
    "data_generation_folder = (append_directory(3) + \"/generate_data\")\n",
    "sys.path.append(data_generation_folder)\n",
    "from twisted_diffusion_data_generation_functions import *\n",
    "from generate_true_conditional_samples import *\n",
    "\n",
    "n = 32\n",
    "device = \"cuda:0\"\n",
    "mask = (th.bernoulli(input = .5*th.ones((1,n,n)), out = th.ones((1,n,n)))).to(device)\n",
    "mask = mask.to(bool)"
   ]
  },
  {
   "cell_type": "code",
   "execution_count": 8,
   "metadata": {},
   "outputs": [],
   "source": [
    "def max_median_min_prob(log_prob_trace, T):\n",
    "    prob_min_trace = [float(th.min(log_prob_trace[i])) for i in range(0, (T+1))]\n",
    "    prob_median_trace = [float(th.median(log_prob_trace[i])) for i in range(0, (T+1))]\n",
    "    prob_max_trace = [float(th.max(log_prob_trace[i])) for i in range(0, (T+1))]\n",
    "    return prob_min_trace, prob_median_trace, prob_max_trace"
   ]
  },
  {
   "cell_type": "code",
   "execution_count": 3,
   "metadata": {},
   "outputs": [],
   "source": [
    "minX = -10\n",
    "maxX = 10\n",
    "minY = -10\n",
    "maxY = 10\n",
    "variance = .4\n",
    "lengthscale = 1.6\n",
    "number_of_replicates = 1\n",
    "seed_value = 43234\n",
    "particles = 32\n",
    "ess_threshold = .25\n",
    "ref_image = ((generate_gaussian_process(minX, maxX, minY, maxY, n, variance, lengthscale,\n",
    "                                          number_of_replicates, seed_value))[1]).reshape((1,n,n))\n",
    "ref_image = th.from_numpy(ref_image).to(device)"
   ]
  },
  {
   "cell_type": "code",
   "execution_count": 4,
   "metadata": {},
   "outputs": [],
   "source": [
    "def probabilities_from_diffusion_call(twisted_diffusion_model, mask, ref_image, n, particles, ess_threshold):\n",
    "\n",
    "    finalsamples, partobs, fullobs, m, reindices_trace, ess_trace, log_w_trace,\\\n",
    "    log_proposal_trace, log_potential_xt_trace, log_potential_xtp1_trace,\\\n",
    "    log_p_trans_untwisted_trace = twisted_diffusion_samples_per_call(twisted_diffusion_model,particles,\n",
    "                                                                                            mask, ref_image, n, ess_threshold)\n",
    "    return log_proposal_trace, log_potential_xt_trace, log_p_trans_untwisted_trace"
   ]
  },
  {
   "cell_type": "code",
   "execution_count": null,
   "metadata": {},
   "outputs": [],
   "source": [
    "log_proposal_trace, log_potential_xt_trace, log_p_trans_untwisted_trace = probabilities_from_diffusion_call(twisted_diffusion, mask, ref_image, n, particles, ess_threshold)"
   ]
  },
  {
   "cell_type": "code",
   "execution_count": 17,
   "metadata": {},
   "outputs": [],
   "source": [
    "log_untwisted_trace = [(log_p_trans_untwisted_trace[i])[0] for i in range(0, 250)]\n",
    "log_proposal1_trace = [(log_proposal_trace[i])[0] for i in range(0, 250)]"
   ]
  },
  {
   "cell_type": "code",
   "execution_count": 18,
   "metadata": {},
   "outputs": [
    {
     "data": {
      "text/plain": [
       "[tensor(657.8300, device='cuda:0'),\n",
       " tensor(674.9860, device='cuda:0'),\n",
       " tensor(700.7227, device='cuda:0'),\n",
       " tensor(703.4183, device='cuda:0'),\n",
       " tensor(683.9225, device='cuda:0'),\n",
       " tensor(711.7649, device='cuda:0'),\n",
       " tensor(744.1047, device='cuda:0'),\n",
       " tensor(746.5947, device='cuda:0'),\n",
       " tensor(771.4912, device='cuda:0'),\n",
       " tensor(755.4794, device='cuda:0'),\n",
       " tensor(709.2078, device='cuda:0'),\n",
       " tensor(774.1699, device='cuda:0'),\n",
       " tensor(799.4939, device='cuda:0'),\n",
       " tensor(796.9497, device='cuda:0'),\n",
       " tensor(781.2303, device='cuda:0'),\n",
       " tensor(831.8732, device='cuda:0'),\n",
       " tensor(806.6784, device='cuda:0'),\n",
       " tensor(834.5254, device='cuda:0'),\n",
       " tensor(859.6878, device='cuda:0'),\n",
       " tensor(862.8976, device='cuda:0'),\n",
       " tensor(924.7391, device='cuda:0'),\n",
       " tensor(870.6163, device='cuda:0'),\n",
       " tensor(948.2400, device='cuda:0'),\n",
       " tensor(922.9493, device='cuda:0'),\n",
       " tensor(984.1153, device='cuda:0'),\n",
       " tensor(951.1231, device='cuda:0'),\n",
       " tensor(1013.1848, device='cuda:0'),\n",
       " tensor(1008.2468, device='cuda:0'),\n",
       " tensor(1049.5562, device='cuda:0'),\n",
       " tensor(1088.0576, device='cuda:0'),\n",
       " tensor(1085.2859, device='cuda:0'),\n",
       " tensor(1127.6744, device='cuda:0'),\n",
       " tensor(1179.8154, device='cuda:0'),\n",
       " tensor(1146.3123, device='cuda:0'),\n",
       " tensor(1182.7668, device='cuda:0'),\n",
       " tensor(1223.7708, device='cuda:0'),\n",
       " tensor(1248.1571, device='cuda:0'),\n",
       " tensor(1283.0212, device='cuda:0'),\n",
       " tensor(1387.0310, device='cuda:0'),\n",
       " tensor(1374.5964, device='cuda:0'),\n",
       " tensor(1419.1624, device='cuda:0'),\n",
       " tensor(1454.5172, device='cuda:0'),\n",
       " tensor(1499.2825, device='cuda:0'),\n",
       " tensor(1585.9976, device='cuda:0'),\n",
       " tensor(1606.5874, device='cuda:0'),\n",
       " tensor(1703.3137, device='cuda:0'),\n",
       " tensor(1742.6571, device='cuda:0'),\n",
       " tensor(1865.8596, device='cuda:0'),\n",
       " tensor(2027.1729, device='cuda:0'),\n",
       " tensor(2188.2864, device='cuda:0')]"
      ]
     },
     "execution_count": 18,
     "metadata": {},
     "output_type": "execute_result"
    }
   ],
   "source": [
    "log_untwisted_trace[200:250]"
   ]
  },
  {
   "cell_type": "code",
   "execution_count": 16,
   "metadata": {},
   "outputs": [
    {
     "data": {
      "text/plain": [
       "[tensor(662.1436, device='cuda:0'),\n",
       " tensor(673.6795, device='cuda:0'),\n",
       " tensor(702.4791, device='cuda:0'),\n",
       " tensor(705.5135, device='cuda:0'),\n",
       " tensor(682.4098, device='cuda:0'),\n",
       " tensor(711.5610, device='cuda:0'),\n",
       " tensor(747.4227, device='cuda:0'),\n",
       " tensor(750.3376, device='cuda:0'),\n",
       " tensor(776.3621, device='cuda:0'),\n",
       " tensor(760.4646, device='cuda:0'),\n",
       " tensor(710.1992, device='cuda:0'),\n",
       " tensor(781.9590, device='cuda:0'),\n",
       " tensor(802.4612, device='cuda:0'),\n",
       " tensor(800.9496, device='cuda:0'),\n",
       " tensor(782.0308, device='cuda:0'),\n",
       " tensor(832.1196, device='cuda:0'),\n",
       " tensor(810.8741, device='cuda:0'),\n",
       " tensor(840.0012, device='cuda:0'),\n",
       " tensor(860.3468, device='cuda:0'),\n",
       " tensor(866.9525, device='cuda:0'),\n",
       " tensor(927.9394, device='cuda:0'),\n",
       " tensor(875.2910, device='cuda:0'),\n",
       " tensor(948.8378, device='cuda:0'),\n",
       " tensor(926.1152, device='cuda:0'),\n",
       " tensor(989.6907, device='cuda:0'),\n",
       " tensor(958.9014, device='cuda:0'),\n",
       " tensor(1019.3828, device='cuda:0'),\n",
       " tensor(1011.6744, device='cuda:0'),\n",
       " tensor(1055.0450, device='cuda:0'),\n",
       " tensor(1092.6534, device='cuda:0'),\n",
       " tensor(1090.9250, device='cuda:0'),\n",
       " tensor(1131.3479, device='cuda:0'),\n",
       " tensor(1181.7317, device='cuda:0'),\n",
       " tensor(1153.5491, device='cuda:0'),\n",
       " tensor(1190.4724, device='cuda:0'),\n",
       " tensor(1220.1497, device='cuda:0'),\n",
       " tensor(1259.4147, device='cuda:0'),\n",
       " tensor(1289.3605, device='cuda:0'),\n",
       " tensor(1397.3629, device='cuda:0'),\n",
       " tensor(1390.4741, device='cuda:0'),\n",
       " tensor(1443.4265, device='cuda:0'),\n",
       " tensor(1456.7047, device='cuda:0'),\n",
       " tensor(1521.9470, device='cuda:0'),\n",
       " tensor(1609.5303, device='cuda:0'),\n",
       " tensor(1639.2969, device='cuda:0'),\n",
       " tensor(1731.1383, device='cuda:0'),\n",
       " tensor(1783.2842, device='cuda:0'),\n",
       " tensor(1907.2484, device='cuda:0'),\n",
       " tensor(2080.4248, device='cuda:0'),\n",
       " tensor(2276.3916, device='cuda:0')]"
      ]
     },
     "execution_count": 16,
     "metadata": {},
     "output_type": "execute_result"
    }
   ],
   "source": [
    "log_proposal1_trace[200:250]"
   ]
  }
 ],
 "metadata": {
  "kernelspec": {
   "display_name": "ncs-tds",
   "language": "python",
   "name": "python3"
  },
  "language_info": {
   "codemirror_mode": {
    "name": "ipython",
    "version": 3
   },
   "file_extension": ".py",
   "mimetype": "text/x-python",
   "name": "python",
   "nbconvert_exporter": "python",
   "pygments_lexer": "ipython3",
   "version": "3.9.13"
  }
 },
 "nbformat": 4,
 "nbformat_minor": 2
}
