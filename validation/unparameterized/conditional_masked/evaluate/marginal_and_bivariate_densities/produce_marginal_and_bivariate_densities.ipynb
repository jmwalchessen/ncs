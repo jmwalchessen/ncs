{
 "cells": [
  {
   "cell_type": "code",
   "execution_count": 1,
   "metadata": {},
   "outputs": [],
   "source": [
    "import numpy as np\n",
    "import torch as th\n",
    "import matplotlib.pyplot as plt\n",
    "from matplotlib import patches as mpatches\n",
    "import seaborn as sns\n",
    "import pandas as pd\n",
    "import os\n",
    "import sys\n",
    "from append_directories import *\n",
    "data_generation_folder = (append_directory(3) + \"/generate_data\")\n",
    "sys.path.append(data_generation_folder)\n",
    "from true_conditional_data_generation import *"
   ]
  },
  {
   "cell_type": "code",
   "execution_count": 56,
   "metadata": {},
   "outputs": [
    {
     "data": {
      "text/plain": [
       "(1, 0)"
      ]
     },
     "execution_count": 56,
     "metadata": {},
     "output_type": "execute_result"
    }
   ],
   "source": [
    "index_to_matrix_index(1,n)"
   ]
  },
  {
   "cell_type": "code",
   "execution_count": 2,
   "metadata": {},
   "outputs": [],
   "source": [
    "#index is assumed to be in i*n+j form where (i,j) is index of matrix\n",
    "def index_to_spatial_location(minX, maxX, minY, maxY, n, index):\n",
    "\n",
    "    # create one-dimensional arrays for x and y\n",
    "    x = np.linspace(minX, maxX, n)\n",
    "    y = np.linspace(minY, maxY, n)\n",
    "    # create the mesh based on these arrays\n",
    "    X, Y = np.meshgrid(x, y)\n",
    "    X = X.reshape((np.prod(X.shape),1))\n",
    "    Y = Y.reshape((np.prod(Y.shape),1))\n",
    "    \n",
    "    xlocation = (X[index])[0]\n",
    "    ylocation = (Y[index])[0]\n",
    "    return (xlocation, ylocation)\n",
    "\n",
    "\n",
    "def index_to_matrix_index(index, n):\n",
    "    print(index)\n",
    "    return (int(index / n), int(index % n))\n",
    "\n",
    "def visualize_spatial_field(observation, min_value, max_value, figname):\n",
    "\n",
    "    fig, ax = plt.subplots(1)\n",
    "    plt.imshow(observation, vmin = min_value, vmax = max_value)\n",
    "    plt.savefig(figname)\n",
    "\n",
    "def produce_bivariate_density(mask, minX, maxX, minY, maxY, n, variance, lengthscale,\n",
    "                              masked_vector, number_of_replicates, missing_two_indices,\n",
    "                              missing_indices, mask_type, folder_name, m, observed_vector):\n",
    "    \n",
    "    #missing_index is in between 0 and m, it's not the original missing index from n x n field\n",
    "    conditional_vectors = sample_conditional_distribution(mask, minX, maxX, minY, maxY, n,\n",
    "                                                     variance, lengthscale, masked_vector,\n",
    "                                                     number_of_replicates)\n",
    "    #conditional_vectors is shape (number of replicates, m)\n",
    "    bivariate_density = (conditional_vectors[:,missing_two_indices]).reshape((number_of_replicates,2))\n",
    "    fig, axs = plt.subplots(ncols = 2, figsize = (10,5))\n",
    "    #emp_mean = round(np.mean(marg), 2)\n",
    "    #emp_var = round(np.std(marginal_density)**2, 2)\n",
    "    pdd = pd.DataFrame(bivariate_density,\n",
    "                                    columns = None)\n",
    "\n",
    "    #partially_observed_field = np.multiply(mask.astype(bool), observed_vector.reshape((n,n)))\n",
    "    axs[0].imshow(observed_vector.reshape((n,n)), alpha = (1-mask), vmin = -2, vmax = 2)\n",
    "    missing_true_index1 = missing_indices[missing_two_indices[0]]\n",
    "    missing_true_index2 = missing_indices[missing_two_indices[1]]\n",
    "    matrix_index1 = index_to_matrix_index(missing_true_index1, n)\n",
    "    matrix_index2 = index_to_matrix_index(missing_true_index2, n)\n",
    "    axs[0].plot(matrix_index1[0], matrix_index1[1], \"r+\")\n",
    "    axs[0].plot(matrix_index2[0], matrix_index2[1], \"r+\")\n",
    "    sns.kdeplot(x = bivariate_density[:,0], y = bivariate_density[:,1],\n",
    "                ax = axs[1])\n",
    "    plt.axvline(observed_vector[missing_true_index1], color='red', linestyle = 'dashed')\n",
    "    plt.axhline(observed_vector[missing_true_index2], color='red', linestyle = 'dashed')\n",
    "    plt.xlim(-2,2)\n",
    "    plt.ylim(-2,2)\n",
    "    axs[1].set_title(\"Marginal\")\n",
    "    location1 = index_to_spatial_location(minX, maxX, minY, maxY, n, missing_true_index1)\n",
    "    rlocation1 = (round(location1[0],2), round(location1[1],2))\n",
    "    location2 = index_to_spatial_location(minX, maxX, minY, maxY, n, missing_true_index2)\n",
    "    rlocation2 = (round(location2[0],2), round(location2[1],2))\n",
    "    axs[1].set_xlabel(\"location: \" + str(rlocation1))\n",
    "    axs[1].set_ylabel(\"location: \" + str(rlocation2))\n",
    "    axs[1].legend(labels = ['true'])\n",
    "    plt.show()\n",
    "\n",
    "def produce_marginal_density(mask, minX, maxX, minY, maxY, n, variance, lengthscale,\n",
    "                                  number_of_replicates, missing_index,\n",
    "                                  missing_indices, mask_type, folder_name, m, observed_vector, ref_image):\n",
    "\n",
    "    #missing_index is in between 0 and m, it's not the original missing index from n x n field\n",
    "    conditional_vectors = sample_conditional_distribution(mask, minX, maxX, minY, maxY, n,\n",
    "                                                     variance, lengthscale, observed_vector,\n",
    "                                                     number_of_replicates)\n",
    "    #conditional_vectors is shape (number of replicates, m)\n",
    "    marginal_density = (conditional_vectors[:,missing_index]).reshape((number_of_replicates,1))\n",
    "\n",
    "    #fig, ax = plt.subplots(1)\n",
    "    #ax.hist(marginal_disalsotribution, density = True, histtype = 'step', bins = 100)\n",
    "    fig, axs = plt.subplots(ncols = 2, figsize = (10,5))\n",
    "    emp_mean = round(np.mean(marginal_density), 2)\n",
    "    emp_var = round(np.std(marginal_density)**2, 2)\n",
    "    pdd = pd.DataFrame(marginal_density,\n",
    "                                    columns = None)\n",
    "    #partially_observed_field = np.multiply(mask.astype(bool), observed_vector.reshape((n,n)))\n",
    "    axs[0].imshow(observed_vector.reshape((n,n)), alpha = (1-mask), vmin = -2, vmax = 2)\n",
    "    missing_true_index = missing_indices[missing_index]\n",
    "    matrix_index = index_to_matrix_index(missing_true_index, n)\n",
    "    axs[0].plot(matrix_index[0], matrix_index[1], \"r+\")\n",
    "    sns.kdeplot(data = pdd, ax = axs[1])\n",
    "    plt.axvline(ref_image[int(matrix_index[0]),int(matrix_index[1])], color='red', linestyle = 'dashed')\n",
    "    axs[1].set_title(\"Marginal\")\n",
    "    location = index_to_spatial_location(minX, maxX, minY, maxY, n, missing_true_index)\n",
    "    rlocation = (round(location[0],2), round(location[1],2))\n",
    "    axs[1].set_xlabel(\"location: \" + str(rlocation))\n",
    "    axs[1].legend(labels = ['true'])\n",
    "    plt.show()\n",
    "\n",
    "\n",
    "def produce_true_and_generated_marginal_density(mask, minX, maxX, minY, maxY, n, variance, lengthscale,\n",
    "                                  number_of_replicates, missing_index,\n",
    "                                  missing_indices, folder_name, m, observed_vector,\n",
    "                                  conditional_generated_samples, ref_image, figname):\n",
    "\n",
    "    #missing_index is in between 0 and m, it's not the original missing index from n x n field\n",
    "    conditional_vectors = sample_conditional_distribution(mask, minX, maxX, minY, maxY, n,\n",
    "                                                     variance, lengthscale, observed_vector,\n",
    "                                                     number_of_replicates)\n",
    "    #conditional_vectors is shape (number of replicates, m)\n",
    "    marginal_density = (conditional_vectors[:,missing_index]).reshape((number_of_replicates,1))\n",
    "    missing_true_index = missing_indices[missing_index]\n",
    "    matrix_missing_index = index_to_matrix_index(missing_true_index, n)\n",
    "    generated_marginal_density = conditional_generated_samples[:,int(matrix_missing_index[0]),int(matrix_missing_index[1])]\n",
    "\n",
    "    #fig, ax = plt.subplots(1)\n",
    "    #ax.hist(marginal_disalsotribution, density = True, histtype = 'step', bins = 100)\n",
    "    fig, axs = plt.subplots(ncols = 2, figsize = (10,5))\n",
    "    emp_mean = round(np.mean(marginal_density), 2)\n",
    "    emp_var = round(np.std(marginal_density)**2, 2)\n",
    "    pdd = pd.DataFrame(marginal_density,\n",
    "                                    columns = None)\n",
    "    generated_pdd = pd.DataFrame(generated_marginal_density,\n",
    "                                    columns = None)\n",
    "\n",
    "    #partially_observed_field = np.multiply(mask.astype(bool), observed_vector.reshape((n,n)))\n",
    "    mask = mask.astype(float).reshape((n,n))\n",
    "    axs[0].imshow(ref_image.reshape((n,n)), alpha = (1-mask), vmin = -2, vmax = 2)\n",
    "    axs[0].plot(matrix_missing_index[1], matrix_missing_index[0], \"r+\")\n",
    "    sns.kdeplot(data = pdd, ax = axs[1], palette=['blue'])\n",
    "    sns.kdeplot(data = generated_pdd, palette = [\"orange\"], ax = axs[1])\n",
    "    plt.axvline(ref_image[int(matrix_missing_index[0]),int(matrix_missing_index[1])], color='red', linestyle = 'dashed')\n",
    "    axs[1].set_title(\"Marginal\")\n",
    "    location = index_to_spatial_location(minX, maxX, minY, maxY, n, missing_true_index)\n",
    "    rlocation = (round(location[0],2), round(location[1],2))\n",
    "    axs[1].set_xlabel(\"location: \" + str(rlocation))\n",
    "    axs[1].legend(labels = ['true', 'generated'])\n",
    "    plt.savefig(figname)\n",
    "\n",
    "def produce_true_and_generated_bivariate_density(mask, minX, maxX, minY, maxY, n, variance, lengthscale,\n",
    "                                                 number_of_replicates, missing_two_indices,\n",
    "                                                 missing_indices, mask_type, folder_name, m, observed_vector,\n",
    "                                                 conditional_generated_samples, ref_image, figname):\n",
    "    \n",
    "    #missing_index is in between 0 and m, it's not the original missing index from n x n field\n",
    "    conditional_vectors = sample_conditional_distribution(mask, minX, maxX, minY, maxY, n,\n",
    "                                                          variance, lengthscale, observed_vector,\n",
    "                                                          number_of_replicates)\n",
    "    #conditional_vectors is shape (number of replicates, m)\n",
    "    bivariate_density = (conditional_vectors[:,missing_two_indices]).reshape((number_of_replicates,2))\n",
    "    missing_true_index1 = missing_indices[missing_two_indices[0]]\n",
    "    missing_true_index2 = missing_indices[missing_two_indices[1]]\n",
    "    matrix_index1 = index_to_matrix_index(missing_true_index1, n)\n",
    "    matrix_index2 = index_to_matrix_index(missing_true_index2, n)\n",
    "    number_of_replicates = conditional_generated_samples.shape[0]\n",
    "    generated_bivariate_density = np.concatenate([(conditional_generated_samples[:,int(matrix_index1[0]),int(matrix_index1[1])]).reshape((number_of_replicates,1)),\n",
    "                                                   (conditional_generated_samples[:,int(matrix_index2[0]),int(matrix_index2[1])]).reshape((number_of_replicates,1))],\n",
    "                                                   axis = 1)\n",
    "    bivariate_density = np.concatenate([bivariate_density, generated_bivariate_density], axis = 0)\n",
    "    class_vector = np.concatenate([(np.repeat('true', number_of_replicates)).reshape((number_of_replicates,1)),\n",
    "                                   (np.repeat('generated', number_of_replicates)).reshape((number_of_replicates,1))], axis = 0)\n",
    "    bivariate_density = np.concatenate([bivariate_density, class_vector], axis = 1)\n",
    "    fig, axs = plt.subplots(ncols = 2, figsize = (10,5))\n",
    "    #emp_mean = round(np.mean(marg), 2)\n",
    "    #emp_var = round(np.std(marginal_density)**2, 2)\n",
    "    pdd = pd.DataFrame(bivariate_density,\n",
    "                                    columns = ['x', 'y', 'class'])\n",
    "    pdd = pdd.astype({'x': 'float64', 'y': 'float64'})\n",
    "    #partially_observed_field = np.multiply(mask.astype(bool), observed_vector.reshape((n,n)))\n",
    "    axs[0].imshow(ref_image.reshape((n,n)), alpha = (1-mask.reshape((n,n))), vmin = -2, vmax = 2)\n",
    "    print(matrix_index1)\n",
    "    axs[0].plot(matrix_index1[0], matrix_index1[1], \"r+\")\n",
    "    axs[0].plot(matrix_index2[0], matrix_index2[1], \"r+\")\n",
    "    kde1 = sns.kdeplot(data = pdd, x = 'x', y = 'y',\n",
    "                ax = axs[1], hue = 'class', shade = True, levels = 5, alpha = .5)\n",
    "    #kde2 = sns.kdeplot(x = generated_bivariate_density[:,0], y = generated_bivariate_density[:,1],\n",
    "                #ax = axs[1], color = 'orange', levels = 5, label = \"generated\")\n",
    "    blue_patch = mpatches.Patch(color='blue')\n",
    "    orange_patch = mpatches.Patch(color='orange')\n",
    "    plt.axvline(ref_image[int(matrix_index1[0]),int(matrix_index1[1])], color='red', linestyle = 'dashed')\n",
    "    plt.axhline(ref_image[int(matrix_index2[0]),int(matrix_index2[1])], color='red', linestyle = 'dashed')\n",
    "    plt.xlim(-2,2)\n",
    "    plt.ylim(-2,2)\n",
    "    axs[1].set_title(\"Marginal\")\n",
    "    location1 = index_to_spatial_location(minX, maxX, minY, maxY, n, missing_true_index1)\n",
    "    rlocation1 = (round(location1[0],2), round(location1[1],2))\n",
    "    location2 = index_to_spatial_location(minX, maxX, minY, maxY, n, missing_true_index2)\n",
    "    rlocation2 = (round(location2[0],2), round(location2[1],2))\n",
    "    axs[1].set_xlabel(\"location: \" + str(rlocation1))\n",
    "    axs[1].set_ylabel(\"location: \" + str(rlocation2))\n",
    "    #axs[1].legend(handles = [blue_patch, orange_patch],labels = ['true', 'generated'])\n",
    "    plt.savefig(figname)\n",
    "    plt.clf()"
   ]
  },
  {
   "cell_type": "code",
   "execution_count": 3,
   "metadata": {},
   "outputs": [],
   "source": [
    "n = 32\n",
    "number_of_replicates = 1000 \n",
    "conditional_samples = np.load((data_generation_folder + \"/data/ref_image2/diffusion/model4_beta_min_max_01_20_random50_1000.npy\"))\n",
    "conditional_samples = conditional_samples.reshape((number_of_replicates,n,n))\n",
    "#mask = np.load((data_generation_folder + \"/data/ref_image1/mask.npy\"), allow_pickle = True)\n",
    "n = 32\n",
    "#mask = th.zeros((1,n,n))\n",
    "#mask[:, int(n/4):int(n/4*3), int(n/4):int(n/4*3)] = 1\n",
    "device = \"cuda:0\"\n",
    "p = .5\n",
    "mask = np.load((data_generation_folder + \"/data/ref_image2/mask.npy\"))\n",
    "ref_image = (np.load((data_generation_folder + \"/data/ref_image2/ref_image2.npy\")))\n",
    "minX = -10\n",
    "maxX = 10\n",
    "minY = -10\n",
    "maxY = 10\n",
    "variance = .4\n",
    "lengthscale = 1.6                                                                                        \n",
    "missing_indices = np.squeeze(np.argwhere((1-mask).reshape((n**2,))))\n",
    "mask_type = \"random50\"\n",
    "folder_name = (data_generation_folder + \"/data/ref_image2/marginal_density\")\n",
    "m = missing_indices.shape[0]\n",
    "observed_vector = ref_image.reshape((n**2))\n",
    "observed_vector = np.delete(observed_vector, missing_indices)"
   ]
  },
  {
   "cell_type": "code",
   "execution_count": 30,
   "metadata": {},
   "outputs": [],
   "source": [
    "conditional_vectors = sample_conditional_distribution((1-mask), minX, maxX, minY, maxY, n,\n",
    "                                                     variance, lengthscale, observed_vector,\n",
    "                                                     number_of_replicates)"
   ]
  },
  {
   "cell_type": "code",
   "execution_count": 33,
   "metadata": {},
   "outputs": [],
   "source": [
    "missing_index = 0\n",
    "missing_true_index = missing_indices[missing_index]\n",
    "matrix_missing_index = index_to_matrix_index(missing_true_index, n)\n",
    "generated_marginal_density = conditional_samples[:,int(matrix_missing_index[0]),int(matrix_missing_index[1])]\n"
   ]
  },
  {
   "cell_type": "code",
   "execution_count": 37,
   "metadata": {},
   "outputs": [],
   "source": [
    "#missing_index is in between 0 and m, it's not the original missing index from n x n field\n",
    "conditional_vectors = sample_conditional_distribution((1-mask), minX, maxX, minY, maxY, n,\n",
    "                                                     variance, lengthscale, observed_vector,\n",
    "                                                     number_of_replicates)"
   ]
  },
  {
   "cell_type": "code",
   "execution_count": 4,
   "metadata": {},
   "outputs": [
    {
     "name": "stdout",
     "output_type": "stream",
     "text": [
      "94\n",
      "94\n"
     ]
    },
    {
     "name": "stderr",
     "output_type": "stream",
     "text": [
      "/home/localpc/miniconda3/envs/ncs-tds/lib/python3.9/site-packages/seaborn/_oldcore.py:1119: FutureWarning: use_inf_as_na option is deprecated and will be removed in a future version. Convert inf values to NaN before operating instead.\n",
      "  with pd.option_context('mode.use_inf_as_na', True):\n",
      "/home/localpc/miniconda3/envs/ncs-tds/lib/python3.9/site-packages/seaborn/_oldcore.py:1119: FutureWarning: use_inf_as_na option is deprecated and will be removed in a future version. Convert inf values to NaN before operating instead.\n",
      "  with pd.option_context('mode.use_inf_as_na', True):\n"
     ]
    },
    {
     "name": "stdout",
     "output_type": "stream",
     "text": [
      "95\n",
      "95\n"
     ]
    },
    {
     "name": "stderr",
     "output_type": "stream",
     "text": [
      "/home/localpc/miniconda3/envs/ncs-tds/lib/python3.9/site-packages/seaborn/_oldcore.py:1119: FutureWarning: use_inf_as_na option is deprecated and will be removed in a future version. Convert inf values to NaN before operating instead.\n",
      "  with pd.option_context('mode.use_inf_as_na', True):\n",
      "/home/localpc/miniconda3/envs/ncs-tds/lib/python3.9/site-packages/seaborn/_oldcore.py:1119: FutureWarning: use_inf_as_na option is deprecated and will be removed in a future version. Convert inf values to NaN before operating instead.\n",
      "  with pd.option_context('mode.use_inf_as_na', True):\n"
     ]
    },
    {
     "name": "stdout",
     "output_type": "stream",
     "text": [
      "96\n",
      "96\n"
     ]
    },
    {
     "name": "stderr",
     "output_type": "stream",
     "text": [
      "/home/localpc/miniconda3/envs/ncs-tds/lib/python3.9/site-packages/seaborn/_oldcore.py:1119: FutureWarning: use_inf_as_na option is deprecated and will be removed in a future version. Convert inf values to NaN before operating instead.\n",
      "  with pd.option_context('mode.use_inf_as_na', True):\n",
      "/home/localpc/miniconda3/envs/ncs-tds/lib/python3.9/site-packages/seaborn/_oldcore.py:1119: FutureWarning: use_inf_as_na option is deprecated and will be removed in a future version. Convert inf values to NaN before operating instead.\n",
      "  with pd.option_context('mode.use_inf_as_na', True):\n"
     ]
    },
    {
     "name": "stdout",
     "output_type": "stream",
     "text": [
      "98\n",
      "98\n"
     ]
    },
    {
     "name": "stderr",
     "output_type": "stream",
     "text": [
      "/home/localpc/miniconda3/envs/ncs-tds/lib/python3.9/site-packages/seaborn/_oldcore.py:1119: FutureWarning: use_inf_as_na option is deprecated and will be removed in a future version. Convert inf values to NaN before operating instead.\n",
      "  with pd.option_context('mode.use_inf_as_na', True):\n",
      "/home/localpc/miniconda3/envs/ncs-tds/lib/python3.9/site-packages/seaborn/_oldcore.py:1119: FutureWarning: use_inf_as_na option is deprecated and will be removed in a future version. Convert inf values to NaN before operating instead.\n",
      "  with pd.option_context('mode.use_inf_as_na', True):\n"
     ]
    },
    {
     "name": "stdout",
     "output_type": "stream",
     "text": [
      "99\n",
      "99\n"
     ]
    },
    {
     "name": "stderr",
     "output_type": "stream",
     "text": [
      "/home/localpc/miniconda3/envs/ncs-tds/lib/python3.9/site-packages/seaborn/_oldcore.py:1119: FutureWarning: use_inf_as_na option is deprecated and will be removed in a future version. Convert inf values to NaN before operating instead.\n",
      "  with pd.option_context('mode.use_inf_as_na', True):\n",
      "/home/localpc/miniconda3/envs/ncs-tds/lib/python3.9/site-packages/seaborn/_oldcore.py:1119: FutureWarning: use_inf_as_na option is deprecated and will be removed in a future version. Convert inf values to NaN before operating instead.\n",
      "  with pd.option_context('mode.use_inf_as_na', True):\n"
     ]
    },
    {
     "name": "stdout",
     "output_type": "stream",
     "text": [
      "100\n",
      "100\n"
     ]
    },
    {
     "name": "stderr",
     "output_type": "stream",
     "text": [
      "/home/localpc/miniconda3/envs/ncs-tds/lib/python3.9/site-packages/seaborn/_oldcore.py:1119: FutureWarning: use_inf_as_na option is deprecated and will be removed in a future version. Convert inf values to NaN before operating instead.\n",
      "  with pd.option_context('mode.use_inf_as_na', True):\n",
      "/home/localpc/miniconda3/envs/ncs-tds/lib/python3.9/site-packages/seaborn/_oldcore.py:1119: FutureWarning: use_inf_as_na option is deprecated and will be removed in a future version. Convert inf values to NaN before operating instead.\n",
      "  with pd.option_context('mode.use_inf_as_na', True):\n"
     ]
    },
    {
     "name": "stdout",
     "output_type": "stream",
     "text": [
      "101\n",
      "101\n"
     ]
    },
    {
     "name": "stderr",
     "output_type": "stream",
     "text": [
      "/home/localpc/miniconda3/envs/ncs-tds/lib/python3.9/site-packages/seaborn/_oldcore.py:1119: FutureWarning: use_inf_as_na option is deprecated and will be removed in a future version. Convert inf values to NaN before operating instead.\n",
      "  with pd.option_context('mode.use_inf_as_na', True):\n",
      "/home/localpc/miniconda3/envs/ncs-tds/lib/python3.9/site-packages/seaborn/_oldcore.py:1119: FutureWarning: use_inf_as_na option is deprecated and will be removed in a future version. Convert inf values to NaN before operating instead.\n",
      "  with pd.option_context('mode.use_inf_as_na', True):\n"
     ]
    },
    {
     "name": "stdout",
     "output_type": "stream",
     "text": [
      "104\n",
      "104\n"
     ]
    },
    {
     "name": "stderr",
     "output_type": "stream",
     "text": [
      "/home/localpc/miniconda3/envs/ncs-tds/lib/python3.9/site-packages/seaborn/_oldcore.py:1119: FutureWarning: use_inf_as_na option is deprecated and will be removed in a future version. Convert inf values to NaN before operating instead.\n",
      "  with pd.option_context('mode.use_inf_as_na', True):\n",
      "/home/localpc/miniconda3/envs/ncs-tds/lib/python3.9/site-packages/seaborn/_oldcore.py:1119: FutureWarning: use_inf_as_na option is deprecated and will be removed in a future version. Convert inf values to NaN before operating instead.\n",
      "  with pd.option_context('mode.use_inf_as_na', True):\n"
     ]
    },
    {
     "name": "stdout",
     "output_type": "stream",
     "text": [
      "105\n",
      "105\n"
     ]
    },
    {
     "name": "stderr",
     "output_type": "stream",
     "text": [
      "/home/localpc/miniconda3/envs/ncs-tds/lib/python3.9/site-packages/seaborn/_oldcore.py:1119: FutureWarning: use_inf_as_na option is deprecated and will be removed in a future version. Convert inf values to NaN before operating instead.\n",
      "  with pd.option_context('mode.use_inf_as_na', True):\n",
      "/home/localpc/miniconda3/envs/ncs-tds/lib/python3.9/site-packages/seaborn/_oldcore.py:1119: FutureWarning: use_inf_as_na option is deprecated and will be removed in a future version. Convert inf values to NaN before operating instead.\n",
      "  with pd.option_context('mode.use_inf_as_na', True):\n"
     ]
    },
    {
     "name": "stdout",
     "output_type": "stream",
     "text": [
      "106\n",
      "106\n"
     ]
    },
    {
     "name": "stderr",
     "output_type": "stream",
     "text": [
      "/home/localpc/miniconda3/envs/ncs-tds/lib/python3.9/site-packages/seaborn/_oldcore.py:1119: FutureWarning: use_inf_as_na option is deprecated and will be removed in a future version. Convert inf values to NaN before operating instead.\n",
      "  with pd.option_context('mode.use_inf_as_na', True):\n",
      "/home/localpc/miniconda3/envs/ncs-tds/lib/python3.9/site-packages/seaborn/_oldcore.py:1119: FutureWarning: use_inf_as_na option is deprecated and will be removed in a future version. Convert inf values to NaN before operating instead.\n",
      "  with pd.option_context('mode.use_inf_as_na', True):\n"
     ]
    },
    {
     "name": "stdout",
     "output_type": "stream",
     "text": [
      "108\n",
      "108\n"
     ]
    },
    {
     "name": "stderr",
     "output_type": "stream",
     "text": [
      "/home/localpc/miniconda3/envs/ncs-tds/lib/python3.9/site-packages/seaborn/_oldcore.py:1119: FutureWarning: use_inf_as_na option is deprecated and will be removed in a future version. Convert inf values to NaN before operating instead.\n",
      "  with pd.option_context('mode.use_inf_as_na', True):\n",
      "/home/localpc/miniconda3/envs/ncs-tds/lib/python3.9/site-packages/seaborn/_oldcore.py:1119: FutureWarning: use_inf_as_na option is deprecated and will be removed in a future version. Convert inf values to NaN before operating instead.\n",
      "  with pd.option_context('mode.use_inf_as_na', True):\n"
     ]
    },
    {
     "name": "stdout",
     "output_type": "stream",
     "text": [
      "109\n",
      "109\n",
      "111\n"
     ]
    },
    {
     "name": "stderr",
     "output_type": "stream",
     "text": [
      "/home/localpc/miniconda3/envs/ncs-tds/lib/python3.9/site-packages/seaborn/_oldcore.py:1119: FutureWarning: use_inf_as_na option is deprecated and will be removed in a future version. Convert inf values to NaN before operating instead.\n",
      "  with pd.option_context('mode.use_inf_as_na', True):\n",
      "/home/localpc/miniconda3/envs/ncs-tds/lib/python3.9/site-packages/seaborn/_oldcore.py:1119: FutureWarning: use_inf_as_na option is deprecated and will be removed in a future version. Convert inf values to NaN before operating instead.\n",
      "  with pd.option_context('mode.use_inf_as_na', True):\n"
     ]
    },
    {
     "name": "stdout",
     "output_type": "stream",
     "text": [
      "111\n"
     ]
    },
    {
     "name": "stderr",
     "output_type": "stream",
     "text": [
      "/home/localpc/miniconda3/envs/ncs-tds/lib/python3.9/site-packages/seaborn/_oldcore.py:1119: FutureWarning: use_inf_as_na option is deprecated and will be removed in a future version. Convert inf values to NaN before operating instead.\n",
      "  with pd.option_context('mode.use_inf_as_na', True):\n",
      "/home/localpc/miniconda3/envs/ncs-tds/lib/python3.9/site-packages/seaborn/_oldcore.py:1119: FutureWarning: use_inf_as_na option is deprecated and will be removed in a future version. Convert inf values to NaN before operating instead.\n",
      "  with pd.option_context('mode.use_inf_as_na', True):\n"
     ]
    },
    {
     "name": "stdout",
     "output_type": "stream",
     "text": [
      "113\n",
      "113\n"
     ]
    },
    {
     "name": "stderr",
     "output_type": "stream",
     "text": [
      "/home/localpc/miniconda3/envs/ncs-tds/lib/python3.9/site-packages/seaborn/_oldcore.py:1119: FutureWarning: use_inf_as_na option is deprecated and will be removed in a future version. Convert inf values to NaN before operating instead.\n",
      "  with pd.option_context('mode.use_inf_as_na', True):\n",
      "/home/localpc/miniconda3/envs/ncs-tds/lib/python3.9/site-packages/seaborn/_oldcore.py:1119: FutureWarning: use_inf_as_na option is deprecated and will be removed in a future version. Convert inf values to NaN before operating instead.\n",
      "  with pd.option_context('mode.use_inf_as_na', True):\n"
     ]
    },
    {
     "name": "stdout",
     "output_type": "stream",
     "text": [
      "116\n",
      "116\n"
     ]
    },
    {
     "name": "stderr",
     "output_type": "stream",
     "text": [
      "/home/localpc/miniconda3/envs/ncs-tds/lib/python3.9/site-packages/seaborn/_oldcore.py:1119: FutureWarning: use_inf_as_na option is deprecated and will be removed in a future version. Convert inf values to NaN before operating instead.\n",
      "  with pd.option_context('mode.use_inf_as_na', True):\n",
      "/home/localpc/miniconda3/envs/ncs-tds/lib/python3.9/site-packages/seaborn/_oldcore.py:1119: FutureWarning: use_inf_as_na option is deprecated and will be removed in a future version. Convert inf values to NaN before operating instead.\n",
      "  with pd.option_context('mode.use_inf_as_na', True):\n"
     ]
    },
    {
     "name": "stdout",
     "output_type": "stream",
     "text": [
      "118\n",
      "118\n"
     ]
    },
    {
     "name": "stderr",
     "output_type": "stream",
     "text": [
      "/home/localpc/miniconda3/envs/ncs-tds/lib/python3.9/site-packages/seaborn/_oldcore.py:1119: FutureWarning: use_inf_as_na option is deprecated and will be removed in a future version. Convert inf values to NaN before operating instead.\n",
      "  with pd.option_context('mode.use_inf_as_na', True):\n",
      "/home/localpc/miniconda3/envs/ncs-tds/lib/python3.9/site-packages/seaborn/_oldcore.py:1119: FutureWarning: use_inf_as_na option is deprecated and will be removed in a future version. Convert inf values to NaN before operating instead.\n",
      "  with pd.option_context('mode.use_inf_as_na', True):\n"
     ]
    },
    {
     "name": "stdout",
     "output_type": "stream",
     "text": [
      "119\n",
      "119\n"
     ]
    },
    {
     "name": "stderr",
     "output_type": "stream",
     "text": [
      "/home/localpc/miniconda3/envs/ncs-tds/lib/python3.9/site-packages/seaborn/_oldcore.py:1119: FutureWarning: use_inf_as_na option is deprecated and will be removed in a future version. Convert inf values to NaN before operating instead.\n",
      "  with pd.option_context('mode.use_inf_as_na', True):\n",
      "/home/localpc/miniconda3/envs/ncs-tds/lib/python3.9/site-packages/seaborn/_oldcore.py:1119: FutureWarning: use_inf_as_na option is deprecated and will be removed in a future version. Convert inf values to NaN before operating instead.\n",
      "  with pd.option_context('mode.use_inf_as_na', True):\n"
     ]
    },
    {
     "name": "stdout",
     "output_type": "stream",
     "text": [
      "120\n",
      "120\n"
     ]
    },
    {
     "name": "stderr",
     "output_type": "stream",
     "text": [
      "/home/localpc/miniconda3/envs/ncs-tds/lib/python3.9/site-packages/seaborn/_oldcore.py:1119: FutureWarning: use_inf_as_na option is deprecated and will be removed in a future version. Convert inf values to NaN before operating instead.\n",
      "  with pd.option_context('mode.use_inf_as_na', True):\n",
      "/home/localpc/miniconda3/envs/ncs-tds/lib/python3.9/site-packages/seaborn/_oldcore.py:1119: FutureWarning: use_inf_as_na option is deprecated and will be removed in a future version. Convert inf values to NaN before operating instead.\n",
      "  with pd.option_context('mode.use_inf_as_na', True):\n"
     ]
    },
    {
     "name": "stdout",
     "output_type": "stream",
     "text": [
      "122\n",
      "122\n"
     ]
    },
    {
     "name": "stderr",
     "output_type": "stream",
     "text": [
      "/home/localpc/miniconda3/envs/ncs-tds/lib/python3.9/site-packages/seaborn/_oldcore.py:1119: FutureWarning: use_inf_as_na option is deprecated and will be removed in a future version. Convert inf values to NaN before operating instead.\n",
      "  with pd.option_context('mode.use_inf_as_na', True):\n",
      "/home/localpc/miniconda3/envs/ncs-tds/lib/python3.9/site-packages/seaborn/_oldcore.py:1119: FutureWarning: use_inf_as_na option is deprecated and will be removed in a future version. Convert inf values to NaN before operating instead.\n",
      "  with pd.option_context('mode.use_inf_as_na', True):\n"
     ]
    },
    {
     "name": "stdout",
     "output_type": "stream",
     "text": [
      "124\n",
      "124\n"
     ]
    },
    {
     "name": "stderr",
     "output_type": "stream",
     "text": [
      "/home/localpc/miniconda3/envs/ncs-tds/lib/python3.9/site-packages/seaborn/_oldcore.py:1119: FutureWarning: use_inf_as_na option is deprecated and will be removed in a future version. Convert inf values to NaN before operating instead.\n",
      "  with pd.option_context('mode.use_inf_as_na', True):\n",
      "/home/localpc/miniconda3/envs/ncs-tds/lib/python3.9/site-packages/seaborn/_oldcore.py:1119: FutureWarning: use_inf_as_na option is deprecated and will be removed in a future version. Convert inf values to NaN before operating instead.\n",
      "  with pd.option_context('mode.use_inf_as_na', True):\n"
     ]
    },
    {
     "name": "stdout",
     "output_type": "stream",
     "text": [
      "125\n",
      "125\n"
     ]
    },
    {
     "name": "stderr",
     "output_type": "stream",
     "text": [
      "/tmp/ipykernel_5180/3651604831.py:117: RuntimeWarning: More than 20 figures have been opened. Figures created through the pyplot interface (`matplotlib.pyplot.figure`) are retained until explicitly closed and may consume too much memory. (To control this warning, see the rcParam `figure.max_open_warning`). Consider using `matplotlib.pyplot.close()`.\n",
      "  fig, axs = plt.subplots(ncols = 2, figsize = (10,5))\n",
      "/home/localpc/miniconda3/envs/ncs-tds/lib/python3.9/site-packages/seaborn/_oldcore.py:1119: FutureWarning: use_inf_as_na option is deprecated and will be removed in a future version. Convert inf values to NaN before operating instead.\n",
      "  with pd.option_context('mode.use_inf_as_na', True):\n",
      "/home/localpc/miniconda3/envs/ncs-tds/lib/python3.9/site-packages/seaborn/_oldcore.py:1119: FutureWarning: use_inf_as_na option is deprecated and will be removed in a future version. Convert inf values to NaN before operating instead.\n",
      "  with pd.option_context('mode.use_inf_as_na', True):\n"
     ]
    },
    {
     "name": "stdout",
     "output_type": "stream",
     "text": [
      "126\n",
      "126\n",
      "128\n"
     ]
    },
    {
     "name": "stderr",
     "output_type": "stream",
     "text": [
      "/home/localpc/miniconda3/envs/ncs-tds/lib/python3.9/site-packages/seaborn/_oldcore.py:1119: FutureWarning: use_inf_as_na option is deprecated and will be removed in a future version. Convert inf values to NaN before operating instead.\n",
      "  with pd.option_context('mode.use_inf_as_na', True):\n",
      "/home/localpc/miniconda3/envs/ncs-tds/lib/python3.9/site-packages/seaborn/_oldcore.py:1119: FutureWarning: use_inf_as_na option is deprecated and will be removed in a future version. Convert inf values to NaN before operating instead.\n",
      "  with pd.option_context('mode.use_inf_as_na', True):\n"
     ]
    },
    {
     "name": "stdout",
     "output_type": "stream",
     "text": [
      "128\n"
     ]
    },
    {
     "name": "stderr",
     "output_type": "stream",
     "text": [
      "/home/localpc/miniconda3/envs/ncs-tds/lib/python3.9/site-packages/seaborn/_oldcore.py:1119: FutureWarning: use_inf_as_na option is deprecated and will be removed in a future version. Convert inf values to NaN before operating instead.\n",
      "  with pd.option_context('mode.use_inf_as_na', True):\n",
      "/home/localpc/miniconda3/envs/ncs-tds/lib/python3.9/site-packages/seaborn/_oldcore.py:1119: FutureWarning: use_inf_as_na option is deprecated and will be removed in a future version. Convert inf values to NaN before operating instead.\n",
      "  with pd.option_context('mode.use_inf_as_na', True):\n"
     ]
    },
    {
     "name": "stdout",
     "output_type": "stream",
     "text": [
      "130\n",
      "130\n"
     ]
    },
    {
     "name": "stderr",
     "output_type": "stream",
     "text": [
      "/home/localpc/miniconda3/envs/ncs-tds/lib/python3.9/site-packages/seaborn/_oldcore.py:1119: FutureWarning: use_inf_as_na option is deprecated and will be removed in a future version. Convert inf values to NaN before operating instead.\n",
      "  with pd.option_context('mode.use_inf_as_na', True):\n",
      "/home/localpc/miniconda3/envs/ncs-tds/lib/python3.9/site-packages/seaborn/_oldcore.py:1119: FutureWarning: use_inf_as_na option is deprecated and will be removed in a future version. Convert inf values to NaN before operating instead.\n",
      "  with pd.option_context('mode.use_inf_as_na', True):\n"
     ]
    },
    {
     "name": "stdout",
     "output_type": "stream",
     "text": [
      "132\n",
      "132\n"
     ]
    },
    {
     "name": "stderr",
     "output_type": "stream",
     "text": [
      "/home/localpc/miniconda3/envs/ncs-tds/lib/python3.9/site-packages/seaborn/_oldcore.py:1119: FutureWarning: use_inf_as_na option is deprecated and will be removed in a future version. Convert inf values to NaN before operating instead.\n",
      "  with pd.option_context('mode.use_inf_as_na', True):\n",
      "/home/localpc/miniconda3/envs/ncs-tds/lib/python3.9/site-packages/seaborn/_oldcore.py:1119: FutureWarning: use_inf_as_na option is deprecated and will be removed in a future version. Convert inf values to NaN before operating instead.\n",
      "  with pd.option_context('mode.use_inf_as_na', True):\n"
     ]
    },
    {
     "name": "stdout",
     "output_type": "stream",
     "text": [
      "133\n",
      "133\n"
     ]
    },
    {
     "name": "stderr",
     "output_type": "stream",
     "text": [
      "/home/localpc/miniconda3/envs/ncs-tds/lib/python3.9/site-packages/seaborn/_oldcore.py:1119: FutureWarning: use_inf_as_na option is deprecated and will be removed in a future version. Convert inf values to NaN before operating instead.\n",
      "  with pd.option_context('mode.use_inf_as_na', True):\n",
      "/home/localpc/miniconda3/envs/ncs-tds/lib/python3.9/site-packages/seaborn/_oldcore.py:1119: FutureWarning: use_inf_as_na option is deprecated and will be removed in a future version. Convert inf values to NaN before operating instead.\n",
      "  with pd.option_context('mode.use_inf_as_na', True):\n"
     ]
    },
    {
     "name": "stdout",
     "output_type": "stream",
     "text": [
      "134\n",
      "134\n"
     ]
    },
    {
     "name": "stderr",
     "output_type": "stream",
     "text": [
      "/home/localpc/miniconda3/envs/ncs-tds/lib/python3.9/site-packages/seaborn/_oldcore.py:1119: FutureWarning: use_inf_as_na option is deprecated and will be removed in a future version. Convert inf values to NaN before operating instead.\n",
      "  with pd.option_context('mode.use_inf_as_na', True):\n",
      "/home/localpc/miniconda3/envs/ncs-tds/lib/python3.9/site-packages/seaborn/_oldcore.py:1119: FutureWarning: use_inf_as_na option is deprecated and will be removed in a future version. Convert inf values to NaN before operating instead.\n",
      "  with pd.option_context('mode.use_inf_as_na', True):\n"
     ]
    },
    {
     "name": "stdout",
     "output_type": "stream",
     "text": [
      "135\n",
      "135\n"
     ]
    },
    {
     "name": "stderr",
     "output_type": "stream",
     "text": [
      "/home/localpc/miniconda3/envs/ncs-tds/lib/python3.9/site-packages/seaborn/_oldcore.py:1119: FutureWarning: use_inf_as_na option is deprecated and will be removed in a future version. Convert inf values to NaN before operating instead.\n",
      "  with pd.option_context('mode.use_inf_as_na', True):\n",
      "/home/localpc/miniconda3/envs/ncs-tds/lib/python3.9/site-packages/seaborn/_oldcore.py:1119: FutureWarning: use_inf_as_na option is deprecated and will be removed in a future version. Convert inf values to NaN before operating instead.\n",
      "  with pd.option_context('mode.use_inf_as_na', True):\n"
     ]
    },
    {
     "name": "stdout",
     "output_type": "stream",
     "text": [
      "136\n",
      "136\n"
     ]
    },
    {
     "name": "stderr",
     "output_type": "stream",
     "text": [
      "/home/localpc/miniconda3/envs/ncs-tds/lib/python3.9/site-packages/seaborn/_oldcore.py:1119: FutureWarning: use_inf_as_na option is deprecated and will be removed in a future version. Convert inf values to NaN before operating instead.\n",
      "  with pd.option_context('mode.use_inf_as_na', True):\n",
      "/home/localpc/miniconda3/envs/ncs-tds/lib/python3.9/site-packages/seaborn/_oldcore.py:1119: FutureWarning: use_inf_as_na option is deprecated and will be removed in a future version. Convert inf values to NaN before operating instead.\n",
      "  with pd.option_context('mode.use_inf_as_na', True):\n"
     ]
    },
    {
     "name": "stdout",
     "output_type": "stream",
     "text": [
      "137\n",
      "137\n"
     ]
    },
    {
     "name": "stderr",
     "output_type": "stream",
     "text": [
      "/home/localpc/miniconda3/envs/ncs-tds/lib/python3.9/site-packages/seaborn/_oldcore.py:1119: FutureWarning: use_inf_as_na option is deprecated and will be removed in a future version. Convert inf values to NaN before operating instead.\n",
      "  with pd.option_context('mode.use_inf_as_na', True):\n",
      "/home/localpc/miniconda3/envs/ncs-tds/lib/python3.9/site-packages/seaborn/_oldcore.py:1119: FutureWarning: use_inf_as_na option is deprecated and will be removed in a future version. Convert inf values to NaN before operating instead.\n",
      "  with pd.option_context('mode.use_inf_as_na', True):\n"
     ]
    },
    {
     "name": "stdout",
     "output_type": "stream",
     "text": [
      "140\n",
      "140\n"
     ]
    },
    {
     "name": "stderr",
     "output_type": "stream",
     "text": [
      "/home/localpc/miniconda3/envs/ncs-tds/lib/python3.9/site-packages/seaborn/_oldcore.py:1119: FutureWarning: use_inf_as_na option is deprecated and will be removed in a future version. Convert inf values to NaN before operating instead.\n",
      "  with pd.option_context('mode.use_inf_as_na', True):\n",
      "/home/localpc/miniconda3/envs/ncs-tds/lib/python3.9/site-packages/seaborn/_oldcore.py:1119: FutureWarning: use_inf_as_na option is deprecated and will be removed in a future version. Convert inf values to NaN before operating instead.\n",
      "  with pd.option_context('mode.use_inf_as_na', True):\n"
     ]
    },
    {
     "name": "stdout",
     "output_type": "stream",
     "text": [
      "141\n",
      "141\n"
     ]
    },
    {
     "name": "stderr",
     "output_type": "stream",
     "text": [
      "/home/localpc/miniconda3/envs/ncs-tds/lib/python3.9/site-packages/seaborn/_oldcore.py:1119: FutureWarning: use_inf_as_na option is deprecated and will be removed in a future version. Convert inf values to NaN before operating instead.\n",
      "  with pd.option_context('mode.use_inf_as_na', True):\n",
      "/home/localpc/miniconda3/envs/ncs-tds/lib/python3.9/site-packages/seaborn/_oldcore.py:1119: FutureWarning: use_inf_as_na option is deprecated and will be removed in a future version. Convert inf values to NaN before operating instead.\n",
      "  with pd.option_context('mode.use_inf_as_na', True):\n"
     ]
    },
    {
     "name": "stdout",
     "output_type": "stream",
     "text": [
      "142\n",
      "142\n"
     ]
    },
    {
     "name": "stderr",
     "output_type": "stream",
     "text": [
      "/home/localpc/miniconda3/envs/ncs-tds/lib/python3.9/site-packages/seaborn/_oldcore.py:1119: FutureWarning: use_inf_as_na option is deprecated and will be removed in a future version. Convert inf values to NaN before operating instead.\n",
      "  with pd.option_context('mode.use_inf_as_na', True):\n",
      "/home/localpc/miniconda3/envs/ncs-tds/lib/python3.9/site-packages/seaborn/_oldcore.py:1119: FutureWarning: use_inf_as_na option is deprecated and will be removed in a future version. Convert inf values to NaN before operating instead.\n",
      "  with pd.option_context('mode.use_inf_as_na', True):\n"
     ]
    },
    {
     "name": "stdout",
     "output_type": "stream",
     "text": [
      "143\n",
      "143\n"
     ]
    },
    {
     "name": "stderr",
     "output_type": "stream",
     "text": [
      "/home/localpc/miniconda3/envs/ncs-tds/lib/python3.9/site-packages/seaborn/_oldcore.py:1119: FutureWarning: use_inf_as_na option is deprecated and will be removed in a future version. Convert inf values to NaN before operating instead.\n",
      "  with pd.option_context('mode.use_inf_as_na', True):\n",
      "/home/localpc/miniconda3/envs/ncs-tds/lib/python3.9/site-packages/seaborn/_oldcore.py:1119: FutureWarning: use_inf_as_na option is deprecated and will be removed in a future version. Convert inf values to NaN before operating instead.\n",
      "  with pd.option_context('mode.use_inf_as_na', True):\n"
     ]
    },
    {
     "name": "stdout",
     "output_type": "stream",
     "text": [
      "144\n",
      "144\n"
     ]
    },
    {
     "name": "stderr",
     "output_type": "stream",
     "text": [
      "/home/localpc/miniconda3/envs/ncs-tds/lib/python3.9/site-packages/seaborn/_oldcore.py:1119: FutureWarning: use_inf_as_na option is deprecated and will be removed in a future version. Convert inf values to NaN before operating instead.\n",
      "  with pd.option_context('mode.use_inf_as_na', True):\n",
      "/home/localpc/miniconda3/envs/ncs-tds/lib/python3.9/site-packages/seaborn/_oldcore.py:1119: FutureWarning: use_inf_as_na option is deprecated and will be removed in a future version. Convert inf values to NaN before operating instead.\n",
      "  with pd.option_context('mode.use_inf_as_na', True):\n"
     ]
    },
    {
     "name": "stdout",
     "output_type": "stream",
     "text": [
      "145\n",
      "145\n"
     ]
    },
    {
     "name": "stderr",
     "output_type": "stream",
     "text": [
      "/home/localpc/miniconda3/envs/ncs-tds/lib/python3.9/site-packages/seaborn/_oldcore.py:1119: FutureWarning: use_inf_as_na option is deprecated and will be removed in a future version. Convert inf values to NaN before operating instead.\n",
      "  with pd.option_context('mode.use_inf_as_na', True):\n",
      "/home/localpc/miniconda3/envs/ncs-tds/lib/python3.9/site-packages/seaborn/_oldcore.py:1119: FutureWarning: use_inf_as_na option is deprecated and will be removed in a future version. Convert inf values to NaN before operating instead.\n",
      "  with pd.option_context('mode.use_inf_as_na', True):\n"
     ]
    },
    {
     "name": "stdout",
     "output_type": "stream",
     "text": [
      "146\n",
      "146\n"
     ]
    },
    {
     "name": "stderr",
     "output_type": "stream",
     "text": [
      "/home/localpc/miniconda3/envs/ncs-tds/lib/python3.9/site-packages/seaborn/_oldcore.py:1119: FutureWarning: use_inf_as_na option is deprecated and will be removed in a future version. Convert inf values to NaN before operating instead.\n",
      "  with pd.option_context('mode.use_inf_as_na', True):\n",
      "/home/localpc/miniconda3/envs/ncs-tds/lib/python3.9/site-packages/seaborn/_oldcore.py:1119: FutureWarning: use_inf_as_na option is deprecated and will be removed in a future version. Convert inf values to NaN before operating instead.\n",
      "  with pd.option_context('mode.use_inf_as_na', True):\n"
     ]
    },
    {
     "name": "stdout",
     "output_type": "stream",
     "text": [
      "152\n",
      "152\n"
     ]
    },
    {
     "name": "stderr",
     "output_type": "stream",
     "text": [
      "/home/localpc/miniconda3/envs/ncs-tds/lib/python3.9/site-packages/seaborn/_oldcore.py:1119: FutureWarning: use_inf_as_na option is deprecated and will be removed in a future version. Convert inf values to NaN before operating instead.\n",
      "  with pd.option_context('mode.use_inf_as_na', True):\n",
      "/home/localpc/miniconda3/envs/ncs-tds/lib/python3.9/site-packages/seaborn/_oldcore.py:1119: FutureWarning: use_inf_as_na option is deprecated and will be removed in a future version. Convert inf values to NaN before operating instead.\n",
      "  with pd.option_context('mode.use_inf_as_na', True):\n"
     ]
    },
    {
     "name": "stdout",
     "output_type": "stream",
     "text": [
      "153\n",
      "153\n"
     ]
    },
    {
     "name": "stderr",
     "output_type": "stream",
     "text": [
      "/home/localpc/miniconda3/envs/ncs-tds/lib/python3.9/site-packages/seaborn/_oldcore.py:1119: FutureWarning: use_inf_as_na option is deprecated and will be removed in a future version. Convert inf values to NaN before operating instead.\n",
      "  with pd.option_context('mode.use_inf_as_na', True):\n",
      "/home/localpc/miniconda3/envs/ncs-tds/lib/python3.9/site-packages/seaborn/_oldcore.py:1119: FutureWarning: use_inf_as_na option is deprecated and will be removed in a future version. Convert inf values to NaN before operating instead.\n",
      "  with pd.option_context('mode.use_inf_as_na', True):\n"
     ]
    },
    {
     "name": "stdout",
     "output_type": "stream",
     "text": [
      "156\n",
      "156\n"
     ]
    },
    {
     "name": "stderr",
     "output_type": "stream",
     "text": [
      "/home/localpc/miniconda3/envs/ncs-tds/lib/python3.9/site-packages/seaborn/_oldcore.py:1119: FutureWarning: use_inf_as_na option is deprecated and will be removed in a future version. Convert inf values to NaN before operating instead.\n",
      "  with pd.option_context('mode.use_inf_as_na', True):\n",
      "/home/localpc/miniconda3/envs/ncs-tds/lib/python3.9/site-packages/seaborn/_oldcore.py:1119: FutureWarning: use_inf_as_na option is deprecated and will be removed in a future version. Convert inf values to NaN before operating instead.\n",
      "  with pd.option_context('mode.use_inf_as_na', True):\n"
     ]
    },
    {
     "name": "stdout",
     "output_type": "stream",
     "text": [
      "158\n"
     ]
    }
   ],
   "source": [
    "for i in range(50,100):\n",
    "    missing_index = i\n",
    "    true_missing_index = missing_indices[missing_index]\n",
    "    true_missing_matrix_index = index_to_matrix_index(true_missing_index, n)\n",
    "    figname = (folder_name + \"/marginal_density_model4_\" + str(int(true_missing_matrix_index[0]))\n",
    "                + \"_\" + str(int(true_missing_matrix_index[1])) + \".png\")\n",
    "    produce_true_and_generated_marginal_density((1-mask), minX, maxX, minY, maxY, n, variance, lengthscale,\n",
    "                                        number_of_replicates, missing_index,\n",
    "                                        missing_indices, folder_name, m, observed_vector,\n",
    "                                        conditional_samples, ref_image, figname)"
   ]
  },
  {
   "cell_type": "code",
   "execution_count": 68,
   "metadata": {},
   "outputs": [
    {
     "data": {
      "text/plain": [
       "(17, 0)"
      ]
     },
     "execution_count": 68,
     "metadata": {},
     "output_type": "execute_result"
    }
   ],
   "source": [
    "matrix_missing_index"
   ]
  },
  {
   "cell_type": "code",
   "execution_count": 77,
   "metadata": {},
   "outputs": [
    {
     "name": "stdout",
     "output_type": "stream",
     "text": [
      "42\n"
     ]
    },
    {
     "data": {
      "text/plain": [
       "array([-3.57364535e-01,  1.23831972e-01,  2.79935837e-01, -8.26655626e-01,\n",
       "        7.87797868e-02, -4.27647322e-01, -5.33545434e-01,  4.52441603e-01,\n",
       "        3.04330319e-01, -7.06139266e-01,  6.93361878e-01,  5.91756636e-03,\n",
       "       -4.10902470e-01, -1.01192415e+00,  3.00612360e-01, -2.97114342e-01,\n",
       "       -1.61815405e-01,  4.38174456e-01, -3.44166607e-01,  2.22219467e-01,\n",
       "       -3.00160497e-01,  3.37844610e-01,  5.69529057e-01,  5.27656555e-01,\n",
       "        5.99801302e-01, -1.30042702e-01,  6.63312256e-01, -2.54531085e-01,\n",
       "        9.44514930e-01,  1.09138596e+00, -5.68095982e-01, -9.36052978e-01,\n",
       "       -1.78911611e-02, -5.02843082e-01, -2.05404311e-01,  3.77273619e-01,\n",
       "       -4.35521305e-01,  5.41186392e-01, -2.24787086e-01, -3.75308990e-01,\n",
       "       -1.50101230e-01,  2.65033960e-01,  4.26889241e-01, -7.22273290e-02,\n",
       "        5.15574634e-01,  3.03639352e-01,  5.83440661e-01, -1.05000293e+00,\n",
       "       -4.16698530e-02, -2.29196668e-01, -2.51895428e-01, -4.82900053e-01,\n",
       "        4.25429732e-01, -4.74203005e-02,  5.42944431e-01,  3.05465490e-01,\n",
       "        5.98199666e-01,  1.69889212e-01, -8.35848600e-02, -8.02882493e-01,\n",
       "        3.49740714e-01, -1.82207987e-01, -3.93366009e-01, -2.69443452e-01,\n",
       "        1.58145264e-01, -1.74480245e-01,  5.06523550e-01, -3.48417222e-01,\n",
       "        9.92296040e-02,  6.10050559e-01,  1.05382144e-01, -5.35977244e-01,\n",
       "        1.33876130e-01,  2.74810076e-01, -2.51767427e-01, -2.59934850e-02,\n",
       "       -5.03394425e-01, -6.26905337e-02, -9.17091593e-02, -9.43259001e-01,\n",
       "       -2.03717053e-01,  1.58489481e-01,  2.46633738e-01, -5.75288057e-01,\n",
       "       -3.11858922e-01,  4.92235601e-01, -7.82742351e-02,  7.54975617e-01,\n",
       "        3.72615218e-01,  1.82938263e-01,  8.06084797e-02, -7.29134008e-02,\n",
       "       -5.89644551e-01, -6.65244997e-01,  2.85629392e-01, -6.16239309e-01,\n",
       "        7.21961498e-01,  2.21234992e-01,  3.54663014e-01, -1.00672156e-01,\n",
       "       -2.60881990e-01, -8.14273730e-02,  4.83908921e-01,  4.56452906e-01,\n",
       "        6.43534958e-01, -2.46417597e-01,  2.34661594e-01,  1.68202743e-01,\n",
       "        2.05414042e-01, -1.74647808e-01,  1.98977515e-01,  3.28035682e-01,\n",
       "       -5.53604178e-02,  1.52449310e-01,  5.11800468e-01,  4.77734476e-01,\n",
       "        3.44596744e-01,  2.20282853e-01,  3.46276283e-01,  7.50006199e-01,\n",
       "        4.65316266e-01,  1.35978805e-02,  6.03268027e-01, -2.87143942e-02,\n",
       "       -5.74402928e-01,  1.62244767e-01, -6.83505416e-01,  8.99795234e-01,\n",
       "       -4.93523851e-02,  3.00949048e-02,  2.20590867e-02,  5.45251323e-03,\n",
       "       -2.15706393e-01,  2.73915440e-01, -5.89538574e-01,  4.97730047e-01,\n",
       "       -6.93498969e-01, -5.54543614e-01,  1.46900281e-01,  2.91118175e-01,\n",
       "       -1.84830785e-01, -7.78539032e-02, -5.44167876e-01,  1.72583133e-01,\n",
       "       -2.48223156e-01, -1.78175643e-02, -1.66950330e-01, -5.50791323e-02,\n",
       "       -7.50386000e-01, -1.79883569e-01, -1.42909095e-01, -9.58229378e-02,\n",
       "       -5.57106495e-01,  6.76487386e-01,  4.16108668e-01,  2.42289171e-01,\n",
       "        6.74845994e-01, -6.19291425e-01, -1.04713881e+00, -6.92813993e-01,\n",
       "        6.94331050e-01,  2.67493069e-01,  1.30115785e-02,  7.15621710e-02,\n",
       "       -3.52754802e-01,  3.70624632e-01,  1.88354790e-01, -4.64810342e-01,\n",
       "       -2.85039365e-01,  2.04779893e-01,  2.76772797e-01,  2.39853576e-01,\n",
       "       -5.05572438e-01, -1.05940497e+00,  8.76046300e-01, -1.46883622e-01,\n",
       "        2.44335860e-01,  4.36094701e-02, -3.35805938e-02,  1.10730439e-01,\n",
       "        1.18368104e-01, -3.98263544e-01,  5.54340601e-01, -4.65566784e-01,\n",
       "       -2.34771818e-01,  1.85401559e-01,  8.84685814e-01, -1.02851056e-01,\n",
       "        7.43609846e-01,  7.84787595e-01, -9.21291053e-01, -5.01909852e-01,\n",
       "       -3.39390337e-02,  7.88004100e-02, -4.12108064e-01, -6.19608223e-01,\n",
       "       -5.07944822e-01,  9.94073674e-02, -1.86011523e-01, -2.87768364e-01,\n",
       "       -2.76546091e-01, -4.49268185e-02,  5.02942562e-01, -3.99494797e-01,\n",
       "       -4.09761257e-02, -3.28743905e-01,  5.86248994e-01, -5.99498272e-01,\n",
       "        1.12506516e-01, -2.94651777e-01, -2.36201175e-02,  5.73051907e-02,\n",
       "        1.36742681e-01,  1.05994606e+00,  2.66793221e-01,  4.19982493e-01,\n",
       "       -8.56205642e-01,  5.33830941e-01,  5.68559051e-01,  3.56289119e-01,\n",
       "        7.21120015e-02,  6.58822536e-01,  6.53512627e-02, -1.68714434e-01,\n",
       "        5.42704880e-01,  7.08854318e-01,  7.72370249e-02, -1.08935511e+00,\n",
       "       -4.47404593e-01, -1.20469637e-01,  7.91255906e-02,  7.00802207e-01,\n",
       "       -7.00885534e-01,  5.16837053e-02, -3.66760701e-01, -2.91888535e-01,\n",
       "        4.35791343e-01, -3.33083719e-01,  3.62765580e-01, -1.18594539e+00,\n",
       "       -9.03869092e-01,  1.72167435e-01, -3.92040461e-01,  7.32366890e-02,\n",
       "       -4.25708711e-01, -6.67147517e-01, -1.33463454e+00, -1.10006166e+00,\n",
       "        6.15419984e-01, -1.13450599e+00,  1.43781886e-01, -8.80824998e-02,\n",
       "        2.39346832e-01,  4.61492360e-01, -2.73391396e-01, -4.23715293e-01,\n",
       "       -5.01587987e-01, -1.63220316e-01, -4.56987053e-01, -8.10107052e-01,\n",
       "       -2.57154435e-01,  8.30272958e-02,  3.97644550e-01,  8.53437930e-02,\n",
       "        7.88642019e-02,  6.07753336e-01, -1.73494861e-01,  5.56074262e-01,\n",
       "        5.68301857e-01, -2.66280115e-01, -3.59884858e-01, -1.66546017e-01,\n",
       "        7.25985542e-02, -2.21089780e-01, -9.35780406e-02,  4.19296384e-01,\n",
       "       -1.17590703e-01, -2.07194522e-01, -3.74991745e-02,  3.57547849e-02,\n",
       "        1.23468556e-01, -1.77292675e-01, -3.88808340e-01, -9.13214087e-01,\n",
       "       -6.56037509e-01,  4.52735014e-02,  4.90580887e-01, -3.04408729e-01,\n",
       "       -2.84808517e-01, -3.95375609e-01, -1.91473171e-01, -9.47625637e-01,\n",
       "       -2.99250960e-01,  7.90896639e-02,  9.41065699e-02,  7.02705681e-01,\n",
       "       -1.16877842e+00, -1.15376979e-01, -4.21459019e-01, -4.60994661e-01,\n",
       "       -2.96193630e-01,  3.01075280e-01, -8.80492926e-02,  3.36861283e-01,\n",
       "        9.74959210e-02,  2.30259866e-01, -1.84301630e-01,  6.19095445e-01,\n",
       "       -3.72448899e-02, -2.12588191e-01, -4.81778443e-01, -8.67785588e-02,\n",
       "        4.36478108e-01,  1.02093622e-01,  1.26526743e-01,  5.65961361e-01,\n",
       "        5.44393241e-01, -3.88872325e-01, -2.62701046e-02,  3.33005369e-01,\n",
       "        1.60975419e-02, -1.65624946e-01, -3.35215122e-01,  4.41583604e-01,\n",
       "       -3.66620451e-01,  2.02533647e-01,  4.70601559e-01, -2.25116193e-01,\n",
       "       -8.65482271e-01, -2.00819537e-01, -6.23990834e-01,  2.91418880e-01,\n",
       "        2.59405285e-01, -3.27172428e-02, -7.01756299e-01,  4.38427106e-02,\n",
       "       -3.56936157e-01,  4.55146641e-01,  4.21441309e-02,  2.42070317e-01,\n",
       "       -4.88097399e-01,  1.57693028e-01, -1.27370387e-01, -8.11071694e-01,\n",
       "        1.12219356e-01,  2.83802859e-03, -4.79364954e-02, -2.03922629e-01,\n",
       "       -1.73205346e-01, -1.89104289e-01,  5.39799690e-01,  5.02667248e-01,\n",
       "       -1.75113559e-01, -9.08909678e-01, -4.72691953e-01, -1.02007771e+00,\n",
       "       -3.79185677e-01,  9.63964760e-02, -4.71504271e-01,  9.54318792e-02,\n",
       "       -1.52997747e-01,  2.20959634e-01,  8.52203250e-01, -7.97600508e-01,\n",
       "        2.40216359e-01,  7.00956732e-02,  5.06989717e-01, -2.35391423e-01,\n",
       "       -1.09070063e-01,  2.51078680e-02, -7.61667192e-01, -6.08251214e-01,\n",
       "       -4.73358631e-01,  7.14185610e-02, -4.63370472e-01,  1.41854212e-01,\n",
       "        1.02221206e-01,  3.52989912e-01, -3.25365812e-02, -5.99309094e-02,\n",
       "       -2.60256350e-01, -1.15551807e-01, -2.72399485e-01, -5.30747890e-01,\n",
       "       -9.64951158e-01, -2.87733078e-01, -9.80177820e-01,  4.81094122e-01,\n",
       "        3.90714109e-01, -1.13044381e-01, -1.32576063e-01, -8.65169168e-01,\n",
       "        1.16624177e-01,  4.99657840e-01, -6.24203742e-01,  3.23731482e-01,\n",
       "       -2.37707525e-01,  4.33688909e-01, -6.37000263e-01, -5.49096167e-01,\n",
       "       -1.91983745e-01, -3.19278777e-01,  3.26474249e-01, -3.55435610e-01,\n",
       "        8.63176957e-03,  4.77332503e-01,  2.79197395e-01,  2.96588123e-01,\n",
       "       -7.80825838e-02, -9.76414382e-01, -7.70575523e-01,  2.15832174e-01,\n",
       "        4.44887877e-01,  1.57707512e-01,  1.83916658e-01,  2.94941235e-02,\n",
       "        1.65748060e-01, -6.47939563e-01,  3.28160554e-01,  5.71159959e-01,\n",
       "        9.84338641e-01, -9.94343877e-01, -5.15344203e-01,  2.69875050e-01,\n",
       "        4.21410739e-01,  4.54318762e-01,  2.08747506e-01,  8.85331750e-01,\n",
       "        2.63512749e-02,  6.59698188e-01, -3.68407309e-01, -3.36198479e-01,\n",
       "       -4.82169874e-02, -7.06100762e-02,  4.70952988e-01, -1.12837344e-01,\n",
       "       -3.58337969e-01, -1.36392787e-01, -8.20868611e-01,  7.96776474e-01,\n",
       "       -7.00533986e-01, -1.52970422e-02, -6.43761098e-01,  2.31333151e-01,\n",
       "       -3.54674995e-01, -8.97724628e-02,  5.29032707e-01, -1.54017642e-01,\n",
       "        3.27257037e-01, -4.22759235e-01, -4.58588570e-01,  4.26440924e-01,\n",
       "        4.73346263e-01,  1.71704769e-01, -3.81466061e-01, -4.51041222e-01,\n",
       "        1.16959296e-01,  5.01240313e-01, -7.27005482e-01, -2.07384959e-01,\n",
       "        2.05396250e-01,  8.40360224e-02,  3.00847083e-01, -1.92391023e-01,\n",
       "       -8.69410098e-01,  6.26567826e-02,  5.72791040e-01,  4.94491130e-01,\n",
       "        6.56083450e-02, -2.85190195e-01, -2.56062090e-01, -6.56431615e-01,\n",
       "       -3.88649344e-01,  4.11744535e-01, -4.27248403e-02,  3.13901871e-01,\n",
       "       -2.64234364e-01, -1.69150949e-01,  4.80295531e-02, -1.01555418e-02,\n",
       "        1.00683317e-01,  2.49193817e-01, -5.63662052e-01, -1.78368866e-01,\n",
       "        3.99658114e-01, -6.61765099e-01, -5.07391632e-01,  9.28170234e-02,\n",
       "       -4.12597656e-01, -6.79034352e-01, -6.27857745e-01, -3.07674289e-01,\n",
       "       -1.02998698e+00, -8.43819618e-01, -4.66734678e-01, -3.19082081e-01,\n",
       "       -5.87993205e-01, -5.87818861e-01, -3.09998333e-01, -1.50553450e-01,\n",
       "        7.05936730e-01, -2.35760391e-01,  6.92070574e-02,  3.78044456e-01,\n",
       "       -1.37108341e-01, -1.26182109e-01, -1.76178753e-01, -3.26372504e-01,\n",
       "        4.96581137e-01, -4.21473175e-01,  3.96286845e-01, -2.86786050e-01,\n",
       "       -8.84211242e-01, -2.11567685e-01,  1.37379304e-01, -9.95495439e-01,\n",
       "        5.96543476e-02,  8.81545544e-02, -7.33368278e-01,  4.90032852e-01,\n",
       "        1.90435231e-01, -4.68937576e-01,  1.78138609e-03, -2.05621645e-02,\n",
       "       -9.03009772e-01, -6.16087139e-01, -3.40502173e-01,  3.89148742e-02,\n",
       "       -2.44754538e-01, -2.68556625e-01,  6.41957045e-01, -1.23244837e-01,\n",
       "       -7.26772130e-01,  1.34165902e-02,  7.90511817e-02, -2.35504240e-01,\n",
       "        1.17994523e+00,  3.27087671e-01, -2.47931704e-01, -4.53713983e-01,\n",
       "       -2.48485968e-01, -7.24843502e-01, -8.03898275e-02,  2.14374989e-01,\n",
       "       -5.32195687e-01, -2.49506265e-01,  4.66263890e-02, -1.91035211e-01,\n",
       "       -6.73069119e-01, -7.68945277e-01,  5.84308058e-04, -1.09929703e-01,\n",
       "       -3.56094301e-01,  3.70336145e-01,  8.18136811e-01, -1.00981511e-01,\n",
       "        2.67591298e-01,  3.87856841e-01,  1.69763654e-01, -9.30986851e-02,\n",
       "       -5.66312611e-01,  4.87699807e-01, -7.63927937e-01,  3.40179093e-02,\n",
       "       -2.04981342e-01, -2.23586947e-01,  3.63224685e-01,  3.79165411e-01,\n",
       "        9.63150412e-02, -1.24954030e-01, -2.82913536e-01,  1.77870274e-01,\n",
       "        6.66042566e-01, -5.46489716e-01,  2.41120651e-01, -7.44642913e-02,\n",
       "        1.91912934e-01, -8.29590917e-01, -1.39495626e-01,  3.86209369e-01,\n",
       "        8.04267466e-01,  2.37109929e-01, -3.27125825e-02, -2.99122393e-01,\n",
       "        3.04483712e-01, -9.87617821e-02,  5.64178526e-01,  1.05801356e+00,\n",
       "        3.30529809e-01, -3.29002589e-01, -8.07217181e-01, -4.09783423e-01,\n",
       "       -5.13255239e-01,  5.76323092e-01,  5.00035048e-01,  2.57227600e-01,\n",
       "        6.29762188e-02, -4.44767237e-01,  5.53857625e-01, -4.81722176e-01,\n",
       "       -1.59672260e-01, -6.76007941e-02,  4.69637930e-01, -1.91345826e-01,\n",
       "       -1.04652178e+00,  9.96823385e-02,  3.36168230e-01, -7.19820559e-02,\n",
       "        1.56547442e-01, -3.70381802e-01, -5.27577281e-01,  3.04966308e-02,\n",
       "        2.73209691e-01, -2.33634710e-01,  6.30054176e-01,  5.27251959e-01,\n",
       "       -4.15184468e-01, -1.80551320e-01, -3.73508066e-01, -5.34902066e-02,\n",
       "        6.08105436e-02,  4.65485483e-01,  2.22814500e-01, -5.72118640e-01,\n",
       "       -4.59222913e-01,  1.00274675e-01, -5.01312137e-01, -1.07855879e-01,\n",
       "       -4.88798469e-01, -1.06593990e+00,  1.79952100e-01, -9.99639034e-01,\n",
       "       -7.59376734e-02, -3.93379867e-01,  1.69698894e-01,  6.28588796e-01,\n",
       "       -9.22601670e-02, -2.84787834e-01, -1.97100099e-02, -2.97638148e-01,\n",
       "       -2.13247478e-01, -4.89299268e-01, -6.84271574e-01, -6.90107584e-01,\n",
       "        2.61771828e-01, -1.45000562e-01, -5.50951719e-01,  3.12776178e-01,\n",
       "        3.34092408e-01, -4.96104956e-01,  1.75191075e-01,  7.56603956e-01,\n",
       "       -1.21114008e-01, -5.42466462e-01,  2.44556531e-01, -1.01792559e-01,\n",
       "        1.30023703e-01,  5.92348397e-01,  2.50223666e-01, -5.26055932e-01,\n",
       "       -3.77884001e-01,  5.18787920e-01,  3.75374913e-01,  1.94997191e-01,\n",
       "       -5.73070645e-01, -1.40500888e-02, -3.26939762e-01,  4.18555528e-01,\n",
       "       -6.11149967e-01,  2.98660457e-01,  3.44240218e-01,  6.68624789e-02,\n",
       "       -2.93713987e-01, -8.77198949e-02,  3.89248699e-01, -3.08243364e-01,\n",
       "       -8.10469568e-01, -6.79354846e-01, -1.18922722e+00, -3.02440733e-01,\n",
       "       -3.72920930e-01, -6.61406398e-01, -7.04314858e-02,  4.23316807e-01,\n",
       "        3.13745141e-01,  1.41061783e-01,  6.49134278e-01, -3.19124132e-01,\n",
       "       -6.08002126e-01, -5.29750049e-01,  1.30961031e-01, -5.34611642e-01,\n",
       "       -1.61751047e-01,  1.53764233e-01,  1.64937392e-01, -3.16187352e-01,\n",
       "        2.68209696e-01, -1.00529528e+00,  1.06396198e-01,  5.10442793e-01,\n",
       "       -2.45250225e-01, -2.17560038e-01, -3.17532063e-01, -5.56820892e-02,\n",
       "       -5.58245540e-01,  1.92518309e-01, -8.36899102e-01,  1.18525751e-01,\n",
       "       -5.22118211e-01,  1.92622066e-01,  4.80049163e-01, -6.77002728e-01,\n",
       "       -2.42475383e-02, -6.62436724e-01, -2.10420847e-01,  3.51962857e-02,\n",
       "       -2.29675751e-02, -5.09295225e-01, -5.67848831e-02,  8.79643500e-01,\n",
       "       -6.00349963e-01, -7.46227503e-02,  9.71291006e-01, -6.97540343e-01,\n",
       "       -2.21180737e-01,  1.25402525e-01, -4.03627723e-01,  3.67691666e-01,\n",
       "       -3.15836608e-01, -4.08686936e-01,  2.07897127e-01, -7.19618082e-01,\n",
       "       -5.99346876e-01,  5.32780409e-01,  6.68914557e-01,  6.93703353e-01,\n",
       "        1.36463642e-01,  7.90376425e-01, -3.52959245e-01, -1.10463932e-01,\n",
       "        1.69658273e-01,  1.66882783e-01, -4.23884362e-01, -6.00942135e-01,\n",
       "       -5.60593545e-01, -1.20318346e-01, -2.92540103e-01,  3.90655547e-01,\n",
       "       -6.51250541e-01, -1.81535140e-01,  2.67897733e-02, -9.61599872e-02,\n",
       "        1.33253425e-01, -6.13771975e-01,  1.09101152e+00,  4.58774090e-01,\n",
       "       -1.69712543e-01, -3.06406915e-01, -2.17905924e-01,  3.55309218e-01,\n",
       "        7.08614767e-01, -4.91804570e-01,  1.02895215e-01,  1.81785420e-01,\n",
       "        4.88751382e-01,  2.06489787e-01, -2.72054881e-01,  2.36188531e-01,\n",
       "       -3.63250554e-01, -2.07026720e-01,  9.02903304e-02, -7.45587749e-03,\n",
       "       -5.03739595e-01,  5.24548948e-01, -7.50679374e-01, -7.05046833e-01,\n",
       "        9.27427769e-01, -5.96180379e-01, -2.79897034e-01,  4.19353127e-01,\n",
       "        1.63278744e-01, -8.39595497e-01,  8.16858530e-01,  3.82996947e-02,\n",
       "        2.14066684e-01, -4.82399091e-02, -6.38458669e-01,  9.64180171e-01,\n",
       "       -4.85955477e-01, -7.29274631e-01, -1.77477986e-01, -2.13302135e-01,\n",
       "       -1.92333862e-01, -1.93208084e-01, -1.44868478e-01,  1.75825953e-02,\n",
       "        3.97835255e-01,  2.72882819e-01,  7.96356797e-02,  3.50962430e-01,\n",
       "        1.57965943e-01, -3.34526300e-01, -8.80791187e-01, -5.94842911e-01,\n",
       "        7.67932832e-01,  4.92670953e-01, -1.84340924e-01, -6.69628143e-01,\n",
       "       -4.60091352e-01,  9.92817104e-01, -7.09190726e-01, -1.11992681e+00,\n",
       "        1.92156211e-01, -5.88954210e-01,  1.10849790e-01, -2.28315726e-01,\n",
       "        3.34655315e-01, -4.31561291e-01, -4.57423508e-01, -3.56077462e-01,\n",
       "       -4.68840599e-01,  1.90367196e-02, -8.94773960e-01,  1.96141690e-01,\n",
       "        7.69454956e-01,  2.50138223e-01,  5.66031456e-01, -4.02545452e-01,\n",
       "        5.00128150e-01,  4.26546693e-01,  2.88909018e-01, -2.92135417e-01,\n",
       "       -5.63652277e-01,  3.80690247e-01, -3.64695489e-01,  4.53481764e-01,\n",
       "       -2.96790034e-01, -9.44171488e-01,  1.81949407e-01, -7.45476842e-01,\n",
       "       -3.57776076e-01,  3.09135675e-01, -5.45404494e-01, -4.63414460e-01,\n",
       "       -5.47251225e-01, -1.72414675e-01,  4.02249128e-01, -3.13935161e-01,\n",
       "        2.70271629e-01, -3.25231373e-01,  5.09296536e-01, -1.53420657e-01,\n",
       "        4.42428142e-02, -1.92105472e-02,  2.62726367e-01,  1.14213929e-01,\n",
       "       -2.19209805e-01, -1.99491709e-01, -6.23910308e-01,  8.57198417e-01,\n",
       "        2.36793131e-01,  5.80053210e-01, -6.10151291e-01, -1.41335309e-01,\n",
       "        6.75653815e-01, -2.81320214e-01,  2.00025439e-02,  5.88517547e-01,\n",
       "       -7.33860061e-02, -1.73502803e-01,  8.08863640e-02, -5.92195213e-01,\n",
       "        3.45542341e-01, -7.76831806e-01, -1.04046129e-02, -4.39442173e-02,\n",
       "        3.32486659e-01,  4.26297367e-01, -1.96148232e-01, -1.30827457e-01,\n",
       "        6.46056175e-01,  8.09887648e-01, -2.21582517e-01,  2.95993418e-01,\n",
       "       -9.19885561e-02, -7.34672427e-01, -1.95139810e-01, -2.95154631e-01,\n",
       "       -9.86210536e-03, -1.60448343e-01,  5.00126839e-01, -6.44735098e-01,\n",
       "       -1.67278230e-01, -2.94856876e-01, -4.41339970e-01,  3.83490473e-02,\n",
       "       -1.62796274e-01, -9.74816203e-01, -3.07951123e-01,  5.80955505e-01,\n",
       "       -9.05522928e-02, -3.81872296e-01, -2.04090580e-01,  9.21000481e-01,\n",
       "       -2.83685140e-02, -5.78755081e-01,  8.98324192e-01, -1.83472127e-01,\n",
       "       -3.55999976e-01, -9.73255217e-01, -1.01056862e+00,  5.47982395e-01,\n",
       "        6.16021395e-01, -3.82856697e-01, -5.04665613e-01, -8.74284148e-01,\n",
       "       -8.47135901e-01,  8.02310556e-02, -7.47675374e-02, -7.87315845e-01,\n",
       "        1.34362057e-01, -8.78312349e-01,  5.01123190e-01,  4.02454436e-01,\n",
       "       -1.11820459e-01, -6.47298932e-01, -8.92144859e-01, -1.54013932e-01,\n",
       "        4.41091299e-01,  3.53300035e-01, -4.64300126e-01, -2.85131752e-01,\n",
       "        2.23147869e-01,  5.36884889e-02,  2.48998538e-01, -2.62107790e-01,\n",
       "       -8.42684567e-01, -1.10842443e+00, -8.04762721e-01, -3.89146924e-01,\n",
       "       -8.62390220e-01, -1.95531160e-01, -3.42337966e-01,  3.40863541e-02,\n",
       "       -4.43043202e-01,  4.64987099e-01, -1.29010201e-01, -2.14000151e-01,\n",
       "        4.89232600e-01,  8.81469071e-01,  1.13315672e-01, -1.99896872e-01,\n",
       "        5.10973930e-01,  1.10341966e+00,  8.08112174e-02, -4.13922161e-01,\n",
       "        5.00945807e-01, -7.04867005e-01, -5.03264546e-01,  4.03705299e-01,\n",
       "        1.66626096e-01, -8.84520173e-01,  2.60652825e-02,  2.36484900e-01,\n",
       "        4.47051555e-01, -1.56626388e-01,  1.90818951e-01,  6.39462054e-01,\n",
       "        4.48247582e-01,  6.97035015e-01, -4.61892724e-01, -8.00209716e-02,\n",
       "       -6.66233540e-01, -4.07885343e-01,  7.73278832e-01, -1.02913007e-03,\n",
       "        7.18647614e-02, -3.65915090e-01,  3.79627645e-01,  3.25594619e-02,\n",
       "       -8.22288454e-01, -1.35070264e-01, -4.15551662e-01,  6.47477359e-02,\n",
       "       -4.28482562e-01, -4.47080471e-02, -2.78989077e-01,  4.33373600e-01,\n",
       "       -2.87504882e-01, -7.58140504e-01, -6.76503181e-01, -1.54690146e-01,\n",
       "       -2.00855091e-01, -2.32546747e-01,  4.73663211e-01, -1.40680388e-01,\n",
       "       -1.07933152e+00,  4.55732405e-01, -1.01255350e-01, -4.84333128e-01],\n",
       "      dtype=float32)"
      ]
     },
     "execution_count": 77,
     "metadata": {},
     "output_type": "execute_result"
    }
   ],
   "source": [
    "missing_index = 20\n",
    "missing_true_index = missing_indices[missing_index]\n",
    "matrix_missing_index = index_to_matrix_index(missing_true_index, n)\n",
    "conditional_samples[:,matrix_missing_index[1],matrix_missing_index[0]]"
   ]
  }
 ],
 "metadata": {
  "kernelspec": {
   "display_name": "ncs-tds",
   "language": "python",
   "name": "python3"
  },
  "language_info": {
   "codemirror_mode": {
    "name": "ipython",
    "version": 3
   },
   "file_extension": ".py",
   "mimetype": "text/x-python",
   "name": "python",
   "nbconvert_exporter": "python",
   "pygments_lexer": "ipython3",
   "version": "3.9.13"
  }
 },
 "nbformat": 4,
 "nbformat_minor": 2
}
