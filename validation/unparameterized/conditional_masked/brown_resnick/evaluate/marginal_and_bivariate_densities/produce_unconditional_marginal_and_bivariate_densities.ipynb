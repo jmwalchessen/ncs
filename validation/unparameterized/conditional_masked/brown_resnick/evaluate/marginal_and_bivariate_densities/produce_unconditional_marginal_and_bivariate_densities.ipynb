{
 "cells": [
  {
   "cell_type": "code",
   "execution_count": 70,
   "metadata": {},
   "outputs": [],
   "source": [
    "import numpy as np\n",
    "import torch as th\n",
    "import matplotlib.pyplot as plt\n",
    "import seaborn as sns\n",
    "import pandas as pd\n",
    "import os\n",
    "import sys\n",
    "from append_directories import *\n",
    "data_generation_folder = (append_directory(3) + \"/generate_data\")\n",
    "sys.path.append(data_generation_folder)\n",
    "import generate_true_unconditional_samples"
   ]
  },
  {
   "cell_type": "code",
   "execution_count": 71,
   "metadata": {},
   "outputs": [],
   "source": [
    "#index is assumed to be in i*n+j form where (i,j) is index of matrix\n",
    "def index_to_spatial_location(minX, maxX, minY, maxY, n, index):\n",
    "\n",
    "    # create one-dimensional arrays for x and y\n",
    "    x = np.linspace(minX, maxX, n)\n",
    "    y = np.linspace(minY, maxY, n)\n",
    "    # create the mesh based on these arrays\n",
    "    X, Y = np.meshgrid(x, y)\n",
    "    X = X.reshape((np.prod(X.shape),1))\n",
    "    Y = Y.reshape((np.prod(Y.shape),1))\n",
    "    \n",
    "    xlocation = (X[index])[0]\n",
    "    ylocation = (Y[index])[0]\n",
    "    return (xlocation, ylocation)\n",
    "\n",
    "def matrix_index_to_index(matrix_index, n):\n",
    "\n",
    "    return (matrix_index[0]*n+matrix_index[1])\n",
    "\n",
    "\n",
    "def index_to_matrix_index(index, n):\n",
    "\n",
    "    return (int(index % n), int(index / n))\n",
    "\n",
    "def visualize_spatial_field(observation, min_value, max_value, figname):\n",
    "\n",
    "    fig, ax = plt.subplots(1)\n",
    "    plt.imshow(observation, vmin = min_value, vmax = max_value)\n",
    "    plt.savefig(figname)\n",
    "\n",
    "def log_transformation(images):\n",
    "\n",
    "    images = np.log(np.where(images !=0, images, np.min(images[images != 0])))\n",
    "\n",
    "    return images\n",
    "\n",
    "\n",
    "def produce_true_and_generated_marginal_density(minX, maxX, minY, maxY, n,\n",
    "                                                number_of_replicates, missing_index,\n",
    "                                                unconditional_generated_samples, uncond_brv,\n",
    "                                                figname):\n",
    "    \n",
    "    #log transformation\n",
    "    uncond_brv = log_transformation(uncond_brv)\n",
    "    #conditional_vectors is shape (number of replicates, m)\n",
    "    marginal_density = (uncond_brv[:,missing_index]).reshape((number_of_replicates,1))\n",
    "    matrix_index = index_to_matrix_index(missing_index, n)\n",
    "    generated_marginal_density = unconditional_generated_samples[:,0,int(matrix_index[0]),int(matrix_index[1])]\n",
    "    uncond_brm = uncond_brv.reshape((number_of_replicates, 1, n, n))\n",
    "\n",
    "    fig, axs = plt.subplots(ncols = 2, figsize = (10,5))\n",
    "    pdd = pd.DataFrame(marginal_density,\n",
    "                                    columns = [\"true\"])\n",
    "    generated_pdd = pd.DataFrame(generated_marginal_density,\n",
    "                                    columns = [\"generated\"])\n",
    "\n",
    "    axs[0].imshow(uncond_brm[0,:,:,:].reshape((n,n)), vmin = np.quantile(uncond_brm[0,:,:,:], [.01])[0],\n",
    "                 vmax = np.quantile(uncond_brm[0,:,:,:], [.99])[0])\n",
    "    #using scott's method to compute bandwidth which depends on number of data points and dimension of data so as long as\n",
    "    #bw_adjust is the same between true and generated and true and generated have same number of data points\n",
    "    #and the same across pixels\n",
    "    axs[0].plot(matrix_index[0], matrix_index[1], \"r+\")\n",
    "    sns.kdeplot(pdd, bw_method = \"scott\", bw_adjust = 1, palette = [\"blue\"], ax = axs[1])\n",
    "    sns.kdeplot(data = generated_pdd[\"generated\"], palette = [\"orange\"], bw_adjust = 1, ax = axs[1])\n",
    "    axs[1].set_title(\"Marginal\")\n",
    "    axs[1].set_xlim(-4,10)\n",
    "    axs[1].set_ylim(0,.5)\n",
    "    location = index_to_spatial_location(minX, maxX, minY, maxY, n, missing_index)\n",
    "    rlocation = (round(location[0],2), round(location[1],2))\n",
    "    axs[1].set_xlabel(\"location: \" + str(rlocation))\n",
    "    axs[1].legend(labels = ['true', 'generated'])\n",
    "    plt.savefig(figname)\n",
    "    plt.clf()\n",
    "\n",
    "def produce_true_and_generated_bivariate_density(minX, maxX, minY, maxY, n,\n",
    "                                                 number_of_replicates, missing_two_indices,\n",
    "                                                 unconditional_generated_samples, uncond_brv,\n",
    "                                                 figname):\n",
    "    \n",
    "    #log transformation\n",
    "    uncond_brv = log_transformation(uncond_brv)\n",
    "    #conditional_vectors is shape (number of replicates, m)\n",
    "    uncond_brm = uncond_brv.reshape((number_of_replicates, 1, n, n))\n",
    "    bivariate_density = (uncond_brv[:,missing_two_indices]).reshape((number_of_replicates,2))\n",
    "    matrix_index1 = index_to_matrix_index(missing_indices[0], n)\n",
    "    matrix_index2 = index_to_matrix_index(missing_indices[1], n)\n",
    "    generated_bivariate_density = np.concatenate([(unconditional_generated_samples[:,0,int(matrix_index1[0]),int(matrix_index1[1])]).reshape((number_of_replicates,1)),\n",
    "                                                   (unconditional_generated_samples[:,0,int(matrix_index2[0]),int(matrix_index2[1])]).reshape((number_of_replicates,1))],\n",
    "                                                   axis = 1)\n",
    "    bivariate_density = np.concatenate([bivariate_density, generated_bivariate_density], axis = 0)\n",
    "    print(bivariate_density)\n",
    "    class_vector = np.concatenate([(np.repeat('true', number_of_replicates)).reshape((number_of_replicates,1)),\n",
    "                                   (np.repeat('generated', number_of_replicates)).reshape((number_of_replicates,1))], axis = 0)\n",
    "    bivariate_density = np.concatenate([bivariate_density, class_vector], axis = 1)\n",
    "    fig, axs = plt.subplots(ncols = 2, figsize = (10,5))\n",
    "    #emp_mean = round(np.mean(marg), 2)\n",
    "    #emp_var = round(np.std(marginal_density)**2, 2)\n",
    "    pdd = pd.DataFrame(bivariate_density, columns = ['x', 'y', 'class'])\n",
    "    pdd = pdd.astype({'x': 'float64', 'y': 'float64'})\n",
    "    #partially_observed_field = np.multiply(mask.astype(bool), observed_vector.reshape((n,n)))\n",
    "    axs[0].imshow(uncond_brm[0,:,:,:].reshape((n,n)),vmin = -1, vmax = 4)\n",
    "    axs[0].plot(matrix_index1[0], matrix_index1[1], \"r+\")\n",
    "    axs[0].plot(matrix_index2[0], matrix_index2[1], \"r+\")\n",
    "    print(bivariate_density)\n",
    "    kde1 = sns.kdeplot(data = pdd, x = 'x', y = 'y', bw_method = \"scott\", bw_adjust = 1,\n",
    "                ax = axs[1], hue = 'class', shade = True, levels = 5, alpha = .5)\n",
    "    plt.xlim(-4,10)\n",
    "    plt.ylim(-4,10)\n",
    "    axs[1].set_title(\"Bivariate\")\n",
    "    location1 = index_to_spatial_location(minX, maxX, minY, maxY, n, missing_indices[0])\n",
    "    rlocation1 = (round(location1[0],2), round(location1[1],2))\n",
    "    location2 = index_to_spatial_location(minX, maxX, minY, maxY, n, missing_indices[1])\n",
    "    rlocation2 = (round(location2[0],2), round(location2[1],2))\n",
    "    axs[1].set_xlabel(\"location: \" + str(rlocation1))\n",
    "    axs[1].set_ylabel(\"location: \" + str(rlocation2))\n",
    "    plt.savefig(figname)\n",
    "    plt.clf()"
   ]
  },
  {
   "cell_type": "code",
   "execution_count": 72,
   "metadata": {},
   "outputs": [],
   "source": [
    "minX = -10\n",
    "maxX = 10\n",
    "minY = -10\n",
    "maxY = 10\n",
    "n = 32\n",
    "range_value = 1.6\n",
    "smooth_value = 1.6\n",
    "number_of_replicates = 2250\n",
    "missing_index = 700\n",
    "missing_indices = [100,101]\n",
    "home_folder = append_directory(3)\n",
    "sys.path.append((home_folder + \"/generate_data\"))\n",
    "import generate_true_unconditional_samples\n",
    "uncond_samples = np.load((home_folder + \"/generate_data/data/unconditional/diffusion/model3_beta_min_max_01_20_random0_2250.npy\"))\n",
    "#uncond_brv = (np.load((home_folder + \"/generate_data/data/unconditional/true/unconditional_model3_range_1.6_smooth_1.6_2250.npy\")))\n",
    "seed_value = 3242\n",
    "uncond_brv = generate_true_unconditional_samples.generate_brown_resnick_process(range_value, smooth_value,\n",
    "                                                                   seed_value, number_of_replicates, n)"
   ]
  },
  {
   "cell_type": "code",
   "execution_count": 73,
   "metadata": {},
   "outputs": [],
   "source": [
    "def produce_true_marginal_density(minX, maxX, minY, maxY, n,\n",
    "                                 number_of_replicates, missing_index,\n",
    "                                 uncond_brv):\n",
    "    \n",
    "    #log transformation\n",
    "    uncond_brv = log_transformation(uncond_brv)\n",
    "    #conditional_vectors is shape (number of replicates, m)\n",
    "    marginal_density = (uncond_brv[:,missing_index]).reshape((number_of_replicates,1))\n",
    "    matrix_index = index_to_matrix_index(missing_index, n)\n",
    "    uncond_brm = uncond_brv.reshape((number_of_replicates, 1, n, n))\n",
    "    print(marginal_density.shape)\n",
    "    print(np.sum(marginal_density<-2.7))\n",
    "\n",
    "    fig, axs = plt.subplots(ncols = 2, figsize = (10,5))\n",
    "    pdd = pd.DataFrame(marginal_density,\n",
    "                                    columns = [\"true\"])\n",
    "\n",
    "    axs[0].imshow(uncond_brm[0,:,:,:].reshape((n,n)), vmin = np.quantile(uncond_brm[0,:,:,:], [.01])[0],\n",
    "                 vmax = np.quantile(uncond_brm[0,:,:,:], [.99])[0])\n",
    "    #using scott's method to compute bandwidth which depends on number of data points and dimension of data so as long as\n",
    "    #bw_adjust is the same between true and generated and true and generated have same number of data points\n",
    "    #and the same across pixels\n",
    "    axs[0].plot(matrix_index[0], matrix_index[1], \"r+\")\n",
    "    sns.kdeplot(pdd, bw_method = \"scott\", bw_adjust = 1, palette = [\"blue\"], ax = axs[1])\n",
    "    axs[1].set_title(\"Marginal\")\n",
    "    axs[1].set_xlim(-4,10)\n",
    "    axs[1].set_ylim(0,.5)\n",
    "    location = index_to_spatial_location(minX, maxX, minY, maxY, n, missing_index)\n",
    "    rlocation = (round(location[0],2), round(location[1],2))\n",
    "    axs[1].set_xlabel(\"location: \" + str(rlocation))\n",
    "    axs[1].legend(labels = ['true', 'generated'])\n",
    "    #plt.savefig(figname)\n",
    "    #plt.clf()\n",
    "    plt.show()"
   ]
  },
  {
   "cell_type": "code",
   "execution_count": 58,
   "metadata": {},
   "outputs": [
    {
     "data": {
      "text/plain": [
       "(2250, 961)"
      ]
     },
     "execution_count": 58,
     "metadata": {},
     "output_type": "execute_result"
    }
   ],
   "source": [
    "uncond_brv.shape"
   ]
  },
  {
   "cell_type": "code",
   "execution_count": 64,
   "metadata": {},
   "outputs": [
    {
     "data": {
      "text/plain": [
       "0"
      ]
     },
     "execution_count": 64,
     "metadata": {},
     "output_type": "execute_result"
    }
   ],
   "source": [
    "np.sum((log_transformation(uncond_brv[:,412])) < -2)"
   ]
  },
  {
   "cell_type": "code",
   "execution_count": 76,
   "metadata": {},
   "outputs": [],
   "source": [
    "indices = np.array([i for i in range(0,200)])"
   ]
  },
  {
   "cell_type": "code",
   "execution_count": 77,
   "metadata": {},
   "outputs": [
    {
     "data": {
      "text/plain": [
       "array([], dtype=int64)"
      ]
     },
     "execution_count": 77,
     "metadata": {},
     "output_type": "execute_result"
    }
   ],
   "source": [
    "indices[uncond_brv[:,4] < .06]"
   ]
  },
  {
   "cell_type": "code",
   "execution_count": 78,
   "metadata": {},
   "outputs": [
    {
     "name": "stdout",
     "output_type": "stream",
     "text": [
      "(200, 1)\n",
      "0\n"
     ]
    },
    {
     "data": {
      "image/png": "[encoded data removed]",
      "text/plain": [
       "<Figure size 1000x500 with 2 Axes>"
      ]
     },
     "metadata": {},
     "output_type": "display_data"
    }
   ],
   "source": [
    "minX = -10\n",
    "maxX = 10\n",
    "minY = -10\n",
    "maxY = 10\n",
    "n = 31\n",
    "number_of_replicates = 200\n",
    "missing_index = 412\n",
    "\n",
    "produce_true_marginal_density(minX, maxX, minY, maxY, n,\n",
    "                                 number_of_replicates, missing_index,\n",
    "                                 uncond_brv)"
   ]
  }
 ],
 "metadata": {
  "kernelspec": {
   "display_name": "ncs-tds",
   "language": "python",
   "name": "python3"
  },
  "language_info": {
   "codemirror_mode": {
    "name": "ipython",
    "version": 3
   },
   "file_extension": ".py",
   "mimetype": "text/x-python",
   "name": "python",
   "nbconvert_exporter": "python",
   "pygments_lexer": "ipython3",
   "version": "3.9.13"
  }
 },
 "nbformat": 4,
 "nbformat_minor": 2
}
