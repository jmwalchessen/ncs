{
 "cells": [
  {
   "cell_type": "code",
   "execution_count": 1,
   "metadata": {},
   "outputs": [],
   "source": [
    "import numpy as np\n"
   ]
  },
  {
   "cell_type": "code",
   "execution_count": 21,
   "metadata": {},
   "outputs": [],
   "source": [
    "def log_transformation(images):\n",
    "\n",
    "    images = np.log(np.where(images !=0, images, np.min(images[images != 0])))\n",
    "\n",
    "    return images"
   ]
  },
  {
   "cell_type": "code",
   "execution_count": 22,
   "metadata": {},
   "outputs": [],
   "source": [
    "\n",
    "uncond_samples = np.load((\"data/unconditional/diffusion/model3_beta_min_max_01_20_random0_2250.npy\"))\n",
    "uncond_true_samples = log_transformation(np.load((\"data/unconditional/true/unconditional_model3_range_1.6_smooth_1.6_2250.npy\")))"
   ]
  },
  {
   "cell_type": "code",
   "execution_count": 32,
   "metadata": {},
   "outputs": [
    {
     "data": {
      "text/plain": [
       "3.511619806289673"
      ]
     },
     "execution_count": 32,
     "metadata": {},
     "output_type": "execute_result"
    }
   ],
   "source": [
    "np.max(uncond_samples[17,:,:,:])"
   ]
  },
  {
   "cell_type": "code",
   "execution_count": 31,
   "metadata": {},
   "outputs": [
    {
     "data": {
      "text/plain": [
       "-2.1525750160217285"
      ]
     },
     "execution_count": 31,
     "metadata": {},
     "output_type": "execute_result"
    }
   ],
   "source": [
    "np.min(uncond_samples[8,:,:,:])"
   ]
  },
  {
   "cell_type": "code",
   "execution_count": 20,
   "metadata": {},
   "outputs": [
    {
     "data": {
      "text/plain": [
       "array([325.96691137,   1.08024557,   1.76105316, ...,   0.        ,\n",
       "         0.        ,   0.        ])"
      ]
     },
     "execution_count": 20,
     "metadata": {},
     "output_type": "execute_result"
    }
   ],
   "source": [
    "uncond_true_samples[:,5]"
   ]
  },
  {
   "cell_type": "code",
   "execution_count": 4,
   "metadata": {},
   "outputs": [
    {
     "data": {
      "text/plain": [
       "array([-2.05613065, -2.10000777, -2.56847024, -2.0071044 , -2.00060773,\n",
       "       -3.03835058, -2.39333797, -2.14886308])"
      ]
     },
     "execution_count": 4,
     "metadata": {},
     "output_type": "execute_result"
    }
   ],
   "source": [
    "pixel_samples = uncond_samples[:,:,15,15]\n",
    "pixel_samples[pixel_samples <= -2]"
   ]
  },
  {
   "cell_type": "code",
   "execution_count": 6,
   "metadata": {},
   "outputs": [
    {
     "data": {
      "text/plain": [
       "array([-2.02895999, -1.96409988, -2.09664845, -1.88274848, -1.80000257,\n",
       "       -1.87451768, -2.07816076, -4.05363846, -1.851107  , -1.94222939,\n",
       "       -2.00030279])"
      ]
     },
     "execution_count": 6,
     "metadata": {},
     "output_type": "execute_result"
    }
   ],
   "source": [
    "pixel_samples = uncond_samples[:,:,15,20]\n",
    "pixel_samples[pixel_samples <= -1.8]"
   ]
  },
  {
   "cell_type": "code",
   "execution_count": 8,
   "metadata": {},
   "outputs": [
    {
     "data": {
      "text/plain": [
       "array([-2.27822089, -2.36340594])"
      ]
     },
     "execution_count": 8,
     "metadata": {},
     "output_type": "execute_result"
    }
   ],
   "source": [
    "pixel_samples = uncond_samples[:,:,1,1]\n",
    "pixel_samples[pixel_samples <= -2]"
   ]
  },
  {
   "cell_type": "code",
   "execution_count": 9,
   "metadata": {},
   "outputs": [
    {
     "data": {
      "text/plain": [
       "array([-2.04106951, -2.23615527, -3.42918205, -2.03798652])"
      ]
     },
     "execution_count": 9,
     "metadata": {},
     "output_type": "execute_result"
    }
   ],
   "source": [
    "pixel_samples = uncond_samples[:,:,9,9]\n",
    "pixel_samples[pixel_samples <= -2]"
   ]
  },
  {
   "cell_type": "code",
   "execution_count": 10,
   "metadata": {},
   "outputs": [
    {
     "data": {
      "text/plain": [
       "array([-2.07455373, -2.06174016, -2.01061273, -3.36501312])"
      ]
     },
     "execution_count": 10,
     "metadata": {},
     "output_type": "execute_result"
    }
   ],
   "source": [
    "pixel_samples = uncond_samples[:,:,20,29]\n",
    "pixel_samples[pixel_samples <= -2]"
   ]
  },
  {
   "cell_type": "code",
   "execution_count": 14,
   "metadata": {},
   "outputs": [
    {
     "data": {
      "text/plain": [
       "array([], dtype=float64)"
      ]
     },
     "execution_count": 14,
     "metadata": {},
     "output_type": "execute_result"
    }
   ],
   "source": [
    "pixel_samples = uncond_true_samples[:,20]\n",
    "pixel_samples[pixel_samples <= -2]"
   ]
  },
  {
   "cell_type": "code",
   "execution_count": 23,
   "metadata": {},
   "outputs": [
    {
     "data": {
      "text/plain": [
       "array([-2.09988038, -2.07556682, -2.06033457, -2.03024736, -2.88498289,\n",
       "       -2.88498289, -2.88498289, -2.88498289, -2.88498289, -2.88498289,\n",
       "       -2.88498289, -2.88498289, -2.88498289, -2.88498289, -2.88498289,\n",
       "       -2.88498289, -2.88498289, -2.88498289, -2.88498289, -2.88498289,\n",
       "       -2.88498289, -2.88498289, -2.88498289, -2.88498289, -2.88498289,\n",
       "       -2.88498289, -2.88498289, -2.88498289, -2.88498289])"
      ]
     },
     "execution_count": 23,
     "metadata": {},
     "output_type": "execute_result"
    }
   ],
   "source": [
    "pixel_samples = uncond_true_samples[:,102]\n",
    "pixel_samples[pixel_samples <= -2]"
   ]
  },
  {
   "cell_type": "code",
   "execution_count": 24,
   "metadata": {},
   "outputs": [
    {
     "data": {
      "text/plain": [
       "0.055910672262727355"
      ]
     },
     "execution_count": 24,
     "metadata": {},
     "output_type": "execute_result"
    }
   ],
   "source": [
    "np.exp(-2.884)"
   ]
  }
 ],
 "metadata": {
  "kernelspec": {
   "display_name": "ncs-tds",
   "language": "python",
   "name": "python3"
  },
  "language_info": {
   "codemirror_mode": {
    "name": "ipython",
    "version": 3
   },
   "file_extension": ".py",
   "mimetype": "text/x-python",
   "name": "python",
   "nbconvert_exporter": "python",
   "pygments_lexer": "ipython3",
   "version": "3.9.13"
  }
 },
 "nbformat": 4,
 "nbformat_minor": 2
}
