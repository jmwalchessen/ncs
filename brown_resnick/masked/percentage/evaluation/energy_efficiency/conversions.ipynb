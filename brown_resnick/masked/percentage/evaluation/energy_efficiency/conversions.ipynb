{
 "cells": [
  {
   "cell_type": "code",
   "execution_count": 1,
   "metadata": {},
   "outputs": [],
   "source": [
    "import numpy as np"
   ]
  },
  {
   "cell_type": "code",
   "execution_count": 12,
   "metadata": {},
   "outputs": [],
   "source": [
    "#ncs image requires 3225 J.\n",
    "ncs_energy = 3225\n",
    "#ncs_kwh = \n",
    "kwh_joules = 3.6*(10**6)\n",
    "ncs_kwh = round(ncs_energy/kwh_joules,4)\n",
    "ncs_simulations_per_kwh = round(1/ncs_kwh)\n",
    "#1 kwh approximately produces .0005 metric tons of CO2\n",
    "#approximately 1000 ncs simulations per .0005 metric tons of CO2\n",
    "#2 million simulations per 1 metric ton of CO2"
   ]
  },
  {
   "cell_type": "code",
   "execution_count": 18,
   "metadata": {},
   "outputs": [],
   "source": [
    "#approximately 15 J per nl surface (there's variation here but this is approximate)\n",
    "nl_energy = 15\n",
    "nl_kwh = round(nl_energy/kwh_joules,6)\n",
    "nl_simulations_per_kwh = round(1/nl_kwh)\n",
    "#250,000 simulations per .0005 metric tons of CO2\n",
    "#500 million simulations per 1 metric tons of CO2"
   ]
  },
  {
   "cell_type": "code",
   "execution_count": 20,
   "metadata": {},
   "outputs": [
    {
     "data": {
      "text/plain": [
       "500000000.0"
      ]
     },
     "execution_count": 20,
     "metadata": {},
     "output_type": "execute_result"
    }
   ],
   "source": [
    "#ncs approximately produces 250 times the amount of CO2 as nl"
   ]
  }
 ],
 "metadata": {
  "kernelspec": {
   "display_name": "Python 3",
   "language": "python",
   "name": "python3"
  },
  "language_info": {
   "codemirror_mode": {
    "name": "ipython",
    "version": 3
   },
   "file_extension": ".py",
   "mimetype": "text/x-python",
   "name": "python",
   "nbconvert_exporter": "python",
   "pygments_lexer": "ipython3",
   "version": "3.8.10"
  }
 },
 "nbformat": 4,
 "nbformat_minor": 2
}
