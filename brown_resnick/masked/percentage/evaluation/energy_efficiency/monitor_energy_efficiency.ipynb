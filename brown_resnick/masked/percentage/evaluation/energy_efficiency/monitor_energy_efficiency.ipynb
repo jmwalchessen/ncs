{
 "cells": [
  {
   "cell_type": "code",
   "execution_count": null,
   "metadata": {},
   "outputs": [],
   "source": [
    "from append_directories import *\n",
    "eval_folder = append_directory(2)\n",
    "import sys\n",
    "sys.path.append(eval_folder)\n",
    "from helper_functions import *\n",
    "import zeus\n",
    "from zeus.monitor import ZeusMonitor\n",
    "import torch\n",
    "import numpy as np\n",
    "import matplotlib.pyplot as plt"
   ]
  },
  {
   "cell_type": "code",
   "execution_count": null,
   "metadata": {},
   "outputs": [],
   "source": [
    "def visualie_ncs(ref_image, mask, ncs_image, mes):\n",
    "\n",
    "    fig,ax = plt.subplots(nrows = 1, ncols = 3)\n",
    "\n",
    "    ax[0].imshow(ref_image.reshape((n,n)), alpha = mask.float(), vmin = -2, vmax = 6)\n",
    "    ax[1].imshow(ref_image.reshape((n,n)), vmin = -2, vmax = 6)\n",
    "    ax[2].imshow(ncs_image.reshape((n,n)), vmin = -2, vmax = 6)\n",
    "    ax.legend(handles = [str(round(mes.time)), str(round(mes.energy))], facecolor='white', framealpha=1, fontsize=\"10\")\n",
    "    plt.show()"
   ]
  },
  {
   "cell_type": "code",
   "execution_count": null,
   "metadata": {},
   "outputs": [],
   "source": [
    "monitor = ZeusMonitor(gpu_indices = [0,1,2,3])"
   ]
  },
  {
   "cell_type": "code",
   "execution_count": null,
   "metadata": {},
   "outputs": [],
   "source": [
    "def produce_ncs_realization_with_variables():\n",
    "\n",
    "    beta_min = .01\n",
    "    beta_max = 20\n",
    "    N = 1000\n",
    "    number_of_replicates = 1\n",
    "    n = 32\n",
    "    process_type = \"brown\"\n",
    "    device = \"cuda:0\"\n",
    "    range_value = 3.\n",
    "    smooth_value = 1.5\n",
    "    seed_value = int(np.random.randint(0,100000,1))\n",
    "    p = .05\n",
    "    mask = torch.bernoulli(p*torch.ones((1,1,n,n)))\n",
    "    ref_img = np.log(generate_brown_resnick_process(range_value, smooth_value, seed_value, number_of_replicates, n))\n",
    "    ref_img = th.from_numpy(ref_img.reshape((1,1,n,n)))\n",
    "    y = ((th.mul(mask, ref_img)).to(device)).float()\n",
    "    mask = mask.to(device)\n",
    "    vpsde = load_sde(beta_min, beta_max, N)\n",
    "    mode = \"eval\"\n",
    "    model_name = \"model4_beta_min_max_01_20_random01525_smooth_1.5_range_3_channel_mask.pth\"\n",
    "    score_model = load_score_model(process_type, model_name, mode)\n",
    "    num_samples = 1\n",
    "    monitor.begin_window(\"eval\")\n",
    "    x = posterior_sample_with_p_mean_variance_via_mask(vpsde, score_model, device, mask,\n",
    "                                                       y, n, num_samples)\n",
    "    mes = monitor.end_window(\"eval\")\n",
    "    visualie_ncs(ref_img, mask, x, mes)"
   ]
  }
 ],
 "metadata": {
  "language_info": {
   "name": "python"
  }
 },
 "nbformat": 4,
 "nbformat_minor": 2
}
